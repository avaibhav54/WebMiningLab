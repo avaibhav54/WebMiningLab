{
 "cells": [
  {
   "cell_type": "markdown",
   "metadata": {},
   "source": [
    "### Q1.\tApply run length encoding for the following string and compress it. \"eeeeeeerrrrrrrrrrrrrrrrttttttttttttttiiiiiiiifffffeft\""
   ]
  },
  {
   "cell_type": "code",
   "execution_count": 2,
   "metadata": {},
   "outputs": [
    {
     "name": "stdout",
     "output_type": "stream",
     "text": [
      "The Run Length Encoding of string  eeeeeeerrrrrrrrrrrrrrrrttttttttttttttiiiiiiiifffffeft  =  e7r16t14i8f5e1f1"
     ]
    }
   ],
   "source": [
    "def lengthEncoding(st):\n",
    "\tn = len(st)\n",
    "\ti = 0\n",
    "\twhile i < n- 1:\n",
    "\t\tcount = 1\n",
    "\t\twhile (i < n - 1 and\n",
    "\t\t\tst[i] == st[i + 1]):\n",
    "\t\t\tcount += 1\n",
    "\t\t\ti += 1\n",
    "\t\ti += 1\n",
    "\t\tprint(st[i - 1] + str(count), end = \"\")\n",
    "\n",
    "st = \"eeeeeeerrrrrrrrrrrrrrrrttttttttttttttiiiiiiiifffffeft\"\n",
    "print(\"The Run Length Encoding of string \", st, \" = \", end=\" \")\n",
    "lengthEncoding(st)"
   ]
  },
  {
   "cell_type": "markdown",
   "metadata": {},
   "source": [
    "### Q2.\tConsider the following Inverted Index File with Terms, Occurrences and Posting List\n",
    "\n",
    "\n"
   ]
  },
  {
   "cell_type": "markdown",
   "metadata": {},
   "source": [
    "##### i.\tApply Binary coding for term “Mercury” (apply for all doc ids)"
   ]
  },
  {
   "cell_type": "code",
   "execution_count": 3,
   "metadata": {},
   "outputs": [
    {
     "name": "stdout",
     "output_type": "stream",
     "text": [
      "The Binary Encoding for Mercury is  1 10 11 111 1001 1010 "
     ]
    }
   ],
   "source": [
    "def Binary(n):\n",
    "    num = bin(n)\n",
    "    num = num[2:]\n",
    "    return num\n",
    "\n",
    "print(\"The Binary Encoding for Mercury is \", end=\" \")\n",
    "Mercury = [1, 2, 3, 7, 9, 10]\n",
    "for N in Mercury:\n",
    "    print(Binary(N), end=\" \")"
   ]
  },
  {
   "cell_type": "markdown",
   "metadata": {},
   "source": [
    "##### ii.\tApply Unary coding for term “Fiber”"
   ]
  },
  {
   "cell_type": "code",
   "execution_count": 4,
   "metadata": {},
   "outputs": [
    {
     "name": "stdout",
     "output_type": "stream",
     "text": [
      "The Unary Coding for Fiber is  10 1110 111110 11111110 11111111111111111110 111111111111111111110 "
     ]
    }
   ],
   "source": [
    "def unaryCoding(arr):\n",
    "\tfor N in arr:\n",
    "\t\tA = []\n",
    "\t\tfor i in range(N):\n",
    "\t\t\tA.append(1)\n",
    "\t\tA.append(0)\n",
    "\t\tB = [str(k) for k in A]\n",
    "\t\tC = \"\".join(B)\n",
    "\t\tprint(C, end=\" \")\n",
    "\n",
    "Fiber = [1,3,5,7,19,20]\n",
    "print(\"The Unary Coding for Fiber is \", end=\" \")\n",
    "unaryCoding(Fiber)"
   ]
  },
  {
   "cell_type": "markdown",
   "metadata": {},
   "source": [
    "##### iii.\tApply Elias Gamma Encoding for term “Airtel”"
   ]
  },
  {
   "cell_type": "code",
   "execution_count": 5,
   "metadata": {},
   "outputs": [
    {
     "name": "stdout",
     "output_type": "stream",
     "text": [
      "The Elias Delta Encoding for Airtel is  0001100 000010001 000011001 000000010010100 000000010011100 000000010011111 000000010101100 "
     ]
    }
   ],
   "source": [
    "from math import log\n",
    "log2 = lambda x: log(x, 2)\n",
    "\n",
    "def Unary(x):\n",
    "\treturn (x-1)*'0'+'1'\n",
    "\n",
    "def Binary(x, l = 1):\n",
    "\ts = '{0:0%db}' % l\n",
    "\treturn s.format(x)\n",
    "\t\n",
    "def Elias_Gamma(x):\n",
    "\tif(x == 0):\n",
    "\t\treturn '0'\n",
    "\tn = 1 + int(log2(x))\n",
    "\tb = x - 2**(int(log2(x)))\n",
    "\tl = int(log2(x))\n",
    "\treturn Unary(n) + Binary(b, l)\n",
    "    \n",
    "Airtel = [12, 17, 25, 148, 156, 159, 172]\n",
    "print(\"The Elias Delta Encoding for Airtel is \", end=\" \")\n",
    "for N in Airtel:\n",
    "    print(Elias_Gamma(N), end=\" \")"
   ]
  },
  {
   "cell_type": "markdown",
   "metadata": {},
   "source": [
    "##### iv.\tApply Elias Delta Decoding for “000010000”"
   ]
  },
  {
   "cell_type": "code",
   "execution_count": 6,
   "metadata": {},
   "outputs": [
    {
     "name": "stdout",
     "output_type": "stream",
     "text": [
      "The Elias Delta Decoding for 000010000 is  1\n"
     ]
    }
   ],
   "source": [
    "import math\n",
    "\n",
    "def Elias_Delta_Decoding(x):\n",
    "\tx = list(x)\n",
    "\tL = 0\n",
    "\twhile True:\n",
    "\t\tif not x[L] == '0':\n",
    "\t\t\tbreak\n",
    "\t\tL = L + 1\n",
    "\tx = x[2*L+1:]\n",
    "\tx.reverse()\n",
    "\tx.insert(0, '1')\n",
    "\tn = 0\n",
    "\t\n",
    "\t# Converting binary to integer\n",
    "\tfor i in range(len(x)):\n",
    "\t\tif x[i] == '1':\n",
    "\t\t\tn = n+math.pow(2, i)\n",
    "\treturn int(n)\n",
    "\n",
    "x = '000010000'\n",
    "print(\"The Elias Delta Decoding for 000010000 is \", Elias_Delta_Decoding(x))"
   ]
  },
  {
   "cell_type": "markdown",
   "metadata": {},
   "source": [
    "##### v.\tApply Elias Delta Encoding for term “Venus”"
   ]
  },
  {
   "cell_type": "code",
   "execution_count": 16,
   "metadata": {},
   "outputs": [
    {
     "name": "stdout",
     "output_type": "stream",
     "text": [
      "The Elias Delta Encoding for Venus is  001010111 0011001101 00111001110 00111111010 00010000010001 "
     ]
    }
   ],
   "source": [
    "from math import log\n",
    "from math import floor\n",
    "\n",
    "def Binary_Representation_Without_MSB(x):\n",
    "\tbinary = \"{0:b}\".format(int(x))\n",
    "\tbinary_without_MSB = binary[1:]\n",
    "\treturn binary_without_MSB\n",
    "\n",
    "def EliasGammaEncode(k):\n",
    "\tif (k == 0):\n",
    "\t\treturn '0'\n",
    "\tN = 1 + floor(log(k, 2))\n",
    "\tUnary = (N-1)*'0'+'1'\n",
    "\treturn Unary + Binary_Representation_Without_MSB(k)\n",
    "\n",
    "def EliasDeltaEncode(x):\n",
    "\tGamma = EliasGammaEncode(1 + floor(log(x, 2)))\n",
    "\tbinary_without_MSB = Binary_Representation_Without_MSB(x)\n",
    "\treturn Gamma+binary_without_MSB\n",
    "\n",
    "print(\"The Elias Delta Encoding for Venus is \", end=\" \")\n",
    "Venus = [23, 45, 78, 122, 145]\n",
    "for N in Venus:\n",
    "\tprint(EliasDeltaEncode(N), end=\" \")"
   ]
  },
  {
   "cell_type": "markdown",
   "metadata": {},
   "source": [
    "##### vi.\tApply Elias Delta Decoding for “00101001”"
   ]
  },
  {
   "cell_type": "code",
   "execution_count": 12,
   "metadata": {},
   "outputs": [
    {
     "name": "stdout",
     "output_type": "stream",
     "text": [
      "The Elias Delta Decoding for 00101001 is  3\n"
     ]
    }
   ],
   "source": [
    "import math\n",
    "\n",
    "def Elias_Delta_Decoding(x):\n",
    "\tx = list(x)\n",
    "\tL = 0\n",
    "\twhile True:\n",
    "\t\tif not x[L] == '0':\n",
    "\t\t\tbreak\n",
    "\t\tL = L + 1\n",
    "\tx = x[2*L+1:]\n",
    "\tx.reverse()\n",
    "\tx.insert(0, '1')\n",
    "\tn = 0\n",
    "\tfor i in range(len(x)):\n",
    "\t\tif x[i] == '1':\n",
    "\t\t\tn = n+math.pow(2, i)\n",
    "\treturn int(n)\n",
    "\n",
    "x = '00101001'\n",
    "print(\"The Elias Delta Decoding for 00101001 is \", Elias_Delta_Decoding(x))"
   ]
  },
  {
   "cell_type": "markdown",
   "metadata": {},
   "source": [
    "##### vii.\tApply Variable Byte Encoding for “Samsung”. (Use doc ids gap)"
   ]
  },
  {
   "cell_type": "code",
   "execution_count": 11,
   "metadata": {},
   "outputs": [
    {
     "name": "stdout",
     "output_type": "stream",
     "text": [
      "The Variable Byte Encoding for Samsung :  00000100 1010001101111089000 8988911100 8991011088910 "
     ]
    }
   ],
   "source": [
    "def toBinary(number):\n",
    "    bin_num = bin(number)\n",
    "    bin_num = bin_num[2:]\n",
    "    return bin_num\n",
    "\n",
    "def variableByteEncoding(number):\n",
    "    s = toBinary(number)\n",
    "    result = \"\"\n",
    "\n",
    "    while len(s) > 0:\n",
    "        if len(s) > 7:\n",
    "            term = s[-7:]\n",
    "            s = s[:-7]\n",
    "        else:\n",
    "            term = s\n",
    "            s = \"\"\n",
    "            term = (\"0\" * (7 - len(term))) + term\n",
    "\n",
    "        if len(result) == 0:\n",
    "            result = term + \"0\"\n",
    "        else:\n",
    "            result = term + \"1\" + result\n",
    "    return result\n",
    "\n",
    "print(\"The Variable Byte Encoding for Samsung : \", end=\" \")\n",
    "Samsung = [2, 12, 34544, 34574, 35569]\n",
    "for i in range(len(Samsung)-1):\n",
    "    if i == 0:\n",
    "        print(variableByteEncoding(Samsung[i]), end=\" \")\n",
    "    else:\n",
    "        x = int(variableByteEncoding(Samsung[i+1]))\n",
    "        y = int(variableByteEncoding(Samsung[i]))\n",
    "        print(x - y, end=\" \")"
   ]
  }
 ],
 "metadata": {
  "interpreter": {
   "hash": "cdca3a36641e0400f79d53e7029f2334446a0524559822c3c59038ffb79172e5"
  },
  "kernelspec": {
   "display_name": "Python 3.8.5 64-bit",
   "language": "python",
   "name": "python3"
  },
  "language_info": {
   "codemirror_mode": {
    "name": "ipython",
    "version": 3
   },
   "file_extension": ".py",
   "mimetype": "text/x-python",
   "name": "python",
   "nbconvert_exporter": "python",
   "pygments_lexer": "ipython3",
   "version": "3.10.0"
  },
  "orig_nbformat": 4
 },
 "nbformat": 4,
 "nbformat_minor": 2
}
