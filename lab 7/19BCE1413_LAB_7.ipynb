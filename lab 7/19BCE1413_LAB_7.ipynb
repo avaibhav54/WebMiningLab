{
 "cells": [
  {
   "cell_type": "markdown",
   "id": "6cb73298",
   "metadata": {},
   "source": [
    "# Question 1\n",
    "Compute the Hubs and authority weights for the following graph. Verify the consistency of results obtained with the Custom Implementation and inbuilt HITS Algorithm function using k=4"
   ]
  },
  {
   "cell_type": "markdown",
   "id": "b023620e",
   "metadata": {},
   "source": [
    "### 1.1 Custom implementation"
   ]
  },
  {
   "cell_type": "code",
   "execution_count": 1,
   "id": "41cfece6",
   "metadata": {},
   "outputs": [],
   "source": [
    "import math\n",
    "import networkx as nx\n",
    "from matplotlib import pyplot as plt"
   ]
  },
  {
   "cell_type": "code",
   "execution_count": 2,
   "id": "df30f858",
   "metadata": {},
   "outputs": [],
   "source": [
    "k = 4"
   ]
  },
  {
   "cell_type": "code",
   "execution_count": 3,
   "id": "75efe945",
   "metadata": {},
   "outputs": [],
   "source": [
    "vertices_names_1 = ['A', 'B', 'C', 'D','E']\n",
    "num_vertices_1 = 5"
   ]
  },
  {
   "cell_type": "code",
   "execution_count": 4,
   "id": "42fad420",
   "metadata": {},
   "outputs": [],
   "source": [
    "adjacency_matrix_1 = [\n",
    "    [1, 0, 0, 0, 0],\n",
    "    [1, 0, 1, 0, 1],\n",
    "    [1, 0, 0, 1, 1],\n",
    "    [1, 0, 0, 0, 0],\n",
    "    [1, 0, 0, 0, 1]\n",
    "]"
   ]
  },
  {
   "cell_type": "code",
   "execution_count": 5,
   "id": "2876468a",
   "metadata": {},
   "outputs": [
    {
     "data": {
      "text/plain": [
       "[[0], [0, 2, 4], [0, 3, 4], [0], [0, 4]]"
      ]
     },
     "execution_count": 5,
     "metadata": {},
     "output_type": "execute_result"
    }
   ],
   "source": [
    "outbound_vertices_1 = [[] for _ in range(num_vertices_1)]\n",
    "\n",
    "for i in range(num_vertices_1) :\n",
    "    for j in range(num_vertices_1) :\n",
    "        if adjacency_matrix_1[i][j] == 1 :\n",
    "            outbound_vertices_1[i].append(j)\n",
    "\n",
    "outbound_vertices_1"
   ]
  },
  {
   "cell_type": "code",
   "execution_count": 6,
   "id": "caf487a3",
   "metadata": {},
   "outputs": [
    {
     "data": {
      "text/plain": [
       "[[0, 1, 2, 3, 4], [], [1], [2], [1, 2, 4]]"
      ]
     },
     "execution_count": 6,
     "metadata": {},
     "output_type": "execute_result"
    }
   ],
   "source": [
    "inbound_vertices_1 = [[] for _ in range(num_vertices_1)]\n",
    "\n",
    "for i in range(num_vertices_1) :\n",
    "    for j in range(num_vertices_1) :\n",
    "        if adjacency_matrix_1[j][i] == 1 :\n",
    "            inbound_vertices_1[i].append(j)\n",
    "\n",
    "inbound_vertices_1"
   ]
  },
  {
   "cell_type": "code",
   "execution_count": 7,
   "id": "4b6099d9",
   "metadata": {},
   "outputs": [],
   "source": [
    "authority_scores_1 = [1] * num_vertices_1\n",
    "hub_scores_1 = [1] * num_vertices_1"
   ]
  },
  {
   "cell_type": "code",
   "execution_count": 8,
   "id": "7be1b2b9",
   "metadata": {},
   "outputs": [],
   "source": [
    "for itr in range(k) :\n",
    "    old_authority_scores = authority_scores_1[:]\n",
    "    old_hub_scores = hub_scores_1[:]\n",
    "    for i in range(num_vertices_1) :\n",
    "        authority_scores_1[i] = sum([old_hub_scores[j] for j in inbound_vertices_1[i]])\n",
    "        hub_scores_1[i] = sum([old_authority_scores[j] for j in outbound_vertices_1[i]])\n",
    "    a_normal = math.sqrt(sum([i**2 for i in authority_scores_1]))\n",
    "    h_normal = math.sqrt(sum([i**2 for i in hub_scores_1]))\n",
    "    for i in range(num_vertices_1) :\n",
    "        authority_scores_1[i] = authority_scores_1[i] / a_normal\n",
    "        hub_scores_1[i] = hub_scores_1[i] / h_normal"
   ]
  },
  {
   "cell_type": "code",
   "execution_count": 9,
   "id": "6d9ae8c8",
   "metadata": {},
   "outputs": [
    {
     "name": "stdout",
     "output_type": "stream",
     "text": [
      "The Authority scores of the nodes after 4 iterations : \n",
      "A  :  0.7668945054590078\n",
      "B  :  0.0\n",
      "C  :  0.2013098076829896\n",
      "D  :  0.2013098076829896\n",
      "E  :  0.5751708790942559\n"
     ]
    }
   ],
   "source": [
    "print(f\"The Authority scores of the nodes after {k} iterations : \")\n",
    "for i in range(num_vertices_1) :\n",
    "    print(vertices_names_1[i], \" : \", authority_scores_1[i])"
   ]
  },
  {
   "cell_type": "code",
   "execution_count": 10,
   "id": "9b29faac",
   "metadata": {},
   "outputs": [
    {
     "name": "stdout",
     "output_type": "stream",
     "text": [
      "The Hub scores of the nodes after 4 iterations : \n",
      "A  :  0.28010687597551287\n",
      "B  :  0.5524330053961504\n",
      "C  :  0.5524330053961504\n",
      "D  :  0.28010687597551287\n",
      "E  :  0.4824062864022721\n"
     ]
    }
   ],
   "source": [
    "print(f\"The Hub scores of the nodes after {k} iterations : \")\n",
    "for i in range(num_vertices_1) :\n",
    "    print(vertices_names_1[i], \" : \", hub_scores_1[i])"
   ]
  },
  {
   "cell_type": "markdown",
   "id": "3a436335",
   "metadata": {},
   "source": [
    "### 1.2 Inbuilt HITS algorithm"
   ]
  },
  {
   "cell_type": "code",
   "execution_count": 11,
   "id": "4c863bd7",
   "metadata": {},
   "outputs": [],
   "source": [
    "graph_1 = nx.DiGraph()"
   ]
  },
  {
   "cell_type": "code",
   "execution_count": 12,
   "id": "348cf64d",
   "metadata": {},
   "outputs": [],
   "source": [
    "graph_1.add_nodes_from(vertices_names_1)"
   ]
  },
  {
   "cell_type": "code",
   "execution_count": 13,
   "id": "650a665d",
   "metadata": {},
   "outputs": [],
   "source": [
    "graph_1.add_edges_from([('A','A'),('B','A'),('B','C'),('B','E'),('C','A'),('C','D'),('C','E'),('D','A'),('E','A'),('E','E')])"
   ]
  },
  {
   "cell_type": "code",
   "execution_count": 14,
   "id": "e0ee0855",
   "metadata": {},
   "outputs": [
    {
     "data": {
      "image/png": "[encoded data removed]",
      "text/plain": [
       "<Figure size 432x288 with 1 Axes>"
      ]
     },
     "metadata": {},
     "output_type": "display_data"
    }
   ],
   "source": [
    "nx.draw_networkx(graph_1, pos=nx.circular_layout(graph_1), arrows=True, with_labels=True)\n",
    "plt.show()"
   ]
  },
  {
   "cell_type": "code",
   "execution_count": 15,
   "id": "b2295764",
   "metadata": {},
   "outputs": [],
   "source": [
    "hub_scores_networkx_1, authority_scores_networkx_1 = nx.hits(graph_1, normalized = True)"
   ]
  },
  {
   "cell_type": "code",
   "execution_count": 16,
   "id": "6975757c",
   "metadata": {},
   "outputs": [
    {
     "name": "stdout",
     "output_type": "stream",
     "text": [
      "The Authority scores of the nodes using Networkx library : \n",
      "A  :  0.4428026090460903\n",
      "B  :  0.0\n",
      "C  :  0.11439478287185582\n",
      "D  :  0.11439478287185582\n",
      "E  :  0.328407825210198\n"
     ]
    }
   ],
   "source": [
    "print(\"The Authority scores of the nodes using Networkx library : \")\n",
    "for k, v in authority_scores_networkx_1.items() :\n",
    "    print(k, \" : \", v)"
   ]
  },
  {
   "cell_type": "code",
   "execution_count": 17,
   "id": "be0b369f",
   "metadata": {},
   "outputs": [
    {
     "name": "stdout",
     "output_type": "stream",
     "text": [
      "The Hub scores of the nodes using Networkx library : \n",
      "A  :  0.1291713067109878\n",
      "B  :  0.2583426131407536\n",
      "C  :  0.2583426131407536\n",
      "D  :  0.1291713067109878\n",
      "E  :  0.22497216029651732\n"
     ]
    }
   ],
   "source": [
    "print(\"The Hub scores of the nodes using Networkx library : \")\n",
    "for k, v in hub_scores_networkx_1.items() :\n",
    "    print(k, \" : \", v)"
   ]
  },
  {
   "cell_type": "code",
   "execution_count": null,
   "id": "c861a93a",
   "metadata": {},
   "outputs": [],
   "source": []
  }
 ],
 "metadata": {
  "kernelspec": {
   "display_name": "Python 3",
   "language": "python",
   "name": "python3"
  },
  "language_info": {
   "codemirror_mode": {
    "name": "ipython",
    "version": 3
   },
   "file_extension": ".py",
   "mimetype": "text/x-python",
   "name": "python",
   "nbconvert_exporter": "python",
   "pygments_lexer": "ipython3",
   "version": "3.8.8"
  }
 },
 "nbformat": 4,
 "nbformat_minor": 5
}
