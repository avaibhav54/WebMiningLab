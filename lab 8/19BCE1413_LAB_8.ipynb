{
  "cells": [
    {
      "cell_type": "markdown",
      "id": "40886f7a",
      "metadata": {},
      "source": [
        "# Vaibhav Agarwal\n",
        "# 19BCE1413\n"
      ]
    },
    {
      "cell_type": "code",
      "execution_count": null,
      "id": "159544ce",
      "metadata": {
        "id": "159544ce"
      },
      "outputs": [],
      "source": [
        "vertices_list = ['1','2','3','4','5','6','7','8','9','10']"
      ]
    },
    {
      "cell_type": "code",
      "execution_count": null,
      "id": "28470ba6",
      "metadata": {
        "id": "28470ba6"
      },
      "outputs": [],
      "source": [
        "num_of_vertices=10"
      ]
    },
    {
      "cell_type": "code",
      "execution_count": null,
      "id": "63fa07cd",
      "metadata": {
        "id": "63fa07cd"
      },
      "outputs": [],
      "source": [
        "import networkx as nx\n",
        "from matplotlib import pyplot as plt"
      ]
    },
    {
      "cell_type": "code",
      "execution_count": null,
      "id": "2ff96360",
      "metadata": {
        "colab": {
          "base_uri": "https://localhost:8080/"
        },
        "id": "2ff96360",
        "outputId": "2c0a0d4e-d294-4ef1-bdd1-da9c412ad683"
      },
      "outputs": [
        {
          "data": {
            "text/plain": [
              "EdgeDataView([('1', '2', {'relation': 'neighbour'}), ('1', '3', {'relation': 'neighbour'}), ('1', '5', {'relation': 'neighbour'}), ('1', '6', {'relation': 'neighbour'}), ('1', '10', {'relation': 'neighbour'}), ('1', '7', {'relation': 'neighbour'}), ('2', '3', {'relation': 'neighbour'}), ('2', '4', {'relation': 'neighbour'}), ('2', '8', {'relation': 'neighbour'}), ('2', '9', {'relation': 'neighbour'}), ('2', '10', {'relation': 'neighbour'}), ('3', '8', {'relation': 'neighbour'}), ('3', '9', {'relation': 'neighbour'}), ('3', '10', {'relation': 'neighbour'}), ('5', '6', {'relation': 'neighbour'}), ('5', '9', {'relation': 'neighbour'}), ('5', '10', {'relation': 'neighbour'}), ('6', '8', {'relation': 'neighbour'}), ('6', '9', {'relation': 'neighbour'}), ('10', '4', {'relation': 'neighbour'}), ('10', '7', {'relation': 'neighbour'}), ('10', '8', {'relation': 'neighbour'}), ('4', '7', {'relation': 'neighbour'}), ('4', '8', {'relation': 'neighbour'}), ('9', '7', {'relation': 'neighbour'})])"
            ]
          },
          "execution_count": 7,
          "metadata": {},
          "output_type": "execute_result"
        }
      ],
      "source": [
        "G = nx.Graph()\n",
        "#create a graph\n",
        "G.add_edge('1','2',relation=\"neighbour\")\n",
        "G.add_edge('1','3',relation=\"neighbour\")\n",
        "G.add_edge('1','5',relation=\"neighbour\")\n",
        "G.add_edge('1','6',relation=\"neighbour\")\n",
        "G.add_edge('1','10',relation=\"neighbour\")\n",
        "G.add_edge('2','1',relation=\"neighbour\")\n",
        "G.add_edge('2','3',relation=\"neighbour\")\n",
        "G.add_edge('2','4',relation=\"neighbour\")\n",
        "G.add_edge('2','8',relation=\"neighbour\")\n",
        "G.add_edge('2','9',relation=\"neighbour\")\n",
        "G.add_edge('2','10',relation=\"neighbour\")\n",
        "G.add_edge('3','1',relation=\"neighbour\")\n",
        "G.add_edge('3','2',relation=\"neighbour\")\n",
        "G.add_edge('3','8',relation=\"neighbour\")\n",
        "G.add_edge('3','9',relation=\"neighbour\")\n",
        "G.add_edge('4','2',relation=\"neighbour\")\n",
        "G.add_edge('4','7',relation=\"neighbour\")\n",
        "G.add_edge('4','8',relation=\"neighbour\")\n",
        "G.add_edge('4','10',relation=\"neighbour\")\n",
        "G.add_edge('5','1',relation=\"neighbour\")\n",
        "G.add_edge('5','6',relation=\"neighbour\")\n",
        "G.add_edge('5','9',relation=\"neighbour\")\n",
        "G.add_edge('5','10',relation=\"neighbour\")\n",
        "G.add_edge('6','1',relation=\"neighbour\")\n",
        "G.add_edge('6','5',relation=\"neighbour\")\n",
        "G.add_edge('6','8',relation=\"neighbour\")\n",
        "G.add_edge('6','9',relation=\"neighbour\")\n",
        "G.add_edge('7','1',relation=\"neighbour\")\n",
        "G.add_edge('7','4',relation=\"neighbour\")\n",
        "G.add_edge('7','9',relation=\"neighbour\")\n",
        "G.add_edge('7','10',relation=\"neighbour\")\n",
        "G.add_edge('8','2',relation=\"neighbour\")\n",
        "G.add_edge('8','3',relation=\"neighbour\")\n",
        "G.add_edge('8','4',relation=\"neighbour\")\n",
        "G.add_edge('8','6',relation=\"neighbour\")\n",
        "G.add_edge('9','2',relation=\"neighbour\")\n",
        "G.add_edge('9','3',relation=\"neighbour\")\n",
        "G.add_edge('9','5',relation=\"neighbour\")\n",
        "G.add_edge('9','6',relation=\"neighbour\")\n",
        "G.add_edge('9','7',relation=\"neighbour\")\n",
        "G.add_edge('10','1',relation=\"neighbour\")\n",
        "G.add_edge('10','3',relation=\"neighbour\")\n",
        "G.add_edge('10','5',relation=\"neighbour\")\n",
        "G.add_edge('10','8',relation=\"neighbour\")\n",
        "G.add_edge('10','4',relation=\"neighbour\")\n",
        "G.add_edge('10','2',relation=\"neighbour\")\n",
        "G.add_edge('10','7',relation=\"neighbour\")\n",
        "G.edges(data=True)"
      ]
    },
    {
      "cell_type": "code",
      "execution_count": null,
      "id": "afe22dc6",
      "metadata": {
        "colab": {
          "base_uri": "https://localhost:8080/",
          "height": 248
        },
        "id": "afe22dc6",
        "outputId": "91ccec59-3353-4ffd-8288-2e911533b22a"
      },
      "outputs": [
        {
          "data": {
            "image/png": "[encoded data removed]",
            "text/plain": [
              "<Figure size 432x288 with 1 Axes>"
            ]
          },
          "metadata": {},
          "output_type": "display_data"
        }
      ],
      "source": [
        "nx.draw_networkx(G, pos=nx.circular_layout(G),with_labels=True)\n",
        "plt.show()"
      ]
    },
    {
      "cell_type": "markdown",
      "id": "b2b790a7",
      "metadata": {},
      "source": [
        "# 1) Find the degree centrality of all the nodes\n"
      ]
    },
    {
      "cell_type": "code",
      "execution_count": null,
      "id": "aa67e8f6",
      "metadata": {
        "colab": {
          "base_uri": "https://localhost:8080/"
        },
        "id": "aa67e8f6",
        "outputId": "e43765c5-0e49-439b-be59-91d1281b99d8"
      },
      "outputs": [
        {
          "data": {
            "text/plain": [
              "{'1': 0.6666666666666666,\n",
              " '10': 0.7777777777777777,\n",
              " '2': 0.6666666666666666,\n",
              " '3': 0.5555555555555556,\n",
              " '4': 0.4444444444444444,\n",
              " '5': 0.4444444444444444,\n",
              " '6': 0.4444444444444444,\n",
              " '7': 0.4444444444444444,\n",
              " '8': 0.5555555555555556,\n",
              " '9': 0.5555555555555556}"
            ]
          },
          "execution_count": 9,
          "metadata": {},
          "output_type": "execute_result"
        }
      ],
      "source": [
        "degree_centrality = nx.degree_centrality(G)\n",
        "degree_centrality"
      ]
    },
    {
      "cell_type": "markdown",
      "id": "4eea002f",
      "metadata": {},
      "source": [
        "# 2) Find the neighbors of node 2"
      ]
    },
    {
      "cell_type": "code",
      "execution_count": null,
      "id": "f3a458a1",
      "metadata": {
        "colab": {
          "base_uri": "https://localhost:8080/"
        },
        "id": "f3a458a1",
        "outputId": "87f5778b-0a47-4657-e581-1ec6536df76d"
      },
      "outputs": [
        {
          "name": "stdout",
          "output_type": "stream",
          "text": [
            "Number of neighbors of node 2:\n"
          ]
        },
        {
          "data": {
            "text/plain": [
              "AtlasView({'1': {'relation': 'neighbour'}, '3': {'relation': 'neighbour'}, '4': {'relation': 'neighbour'}, '8': {'relation': 'neighbour'}, '9': {'relation': 'neighbour'}, '10': {'relation': 'neighbour'}})"
            ]
          },
          "execution_count": 16,
          "metadata": {},
          "output_type": "execute_result"
        }
      ],
      "source": [
        "print(\"Number of neighbors of node 2:\")\n",
        "G['2']"
      ]
    },
    {
      "cell_type": "markdown",
      "id": "32cd6927",
      "metadata": {},
      "source": [
        "# 3) Find the average degree of graph"
      ]
    },
    {
      "cell_type": "code",
      "execution_count": null,
      "id": "afc986bb",
      "metadata": {
        "colab": {
          "base_uri": "https://localhost:8080/"
        },
        "id": "afc986bb",
        "outputId": "a0711154-40b6-4c55-acf0-361ba1fbfb30"
      },
      "outputs": [
        {
          "name": "stdout",
          "output_type": "stream",
          "text": [
            "Average degree of graph is:\n"
          ]
        },
        {
          "data": {
            "text/plain": [
              "5.0"
            ]
          },
          "execution_count": 17,
          "metadata": {},
          "output_type": "execute_result"
        }
      ],
      "source": [
        "print(\"Average degree of graph is:\")\n",
        "2*G.number_of_edges() / float(num_of_vertices)"
      ]
    },
    {
      "cell_type": "markdown",
      "id": "f3859e71",
      "metadata": {},
      "source": [
        "# 4) Find the density of the graph"
      ]
    },
    {
      "cell_type": "code",
      "execution_count": null,
      "id": "385c874f",
      "metadata": {
        "colab": {
          "base_uri": "https://localhost:8080/"
        },
        "id": "385c874f",
        "outputId": "2aebdd34-7c12-4d71-ba90-1514529f9552"
      },
      "outputs": [
        {
          "name": "stdout",
          "output_type": "stream",
          "text": [
            "Density of graph is:\n"
          ]
        },
        {
          "data": {
            "text/plain": [
              "0.5555555555555556"
            ]
          },
          "execution_count": 18,
          "metadata": {},
          "output_type": "execute_result"
        }
      ],
      "source": [
        "print(\"Density of graph is:\")\n",
        "nx.density(G)"
      ]
    },
    {
      "cell_type": "markdown",
      "id": "4ba5a54e",
      "metadata": {},
      "source": [
        "# 5) Find the closeness centrality of node 10"
      ]
    },
    {
      "cell_type": "code",
      "execution_count": null,
      "id": "c43f0188",
      "metadata": {
        "colab": {
          "base_uri": "https://localhost:8080/"
        },
        "id": "c43f0188",
        "outputId": "315dbe7a-5f7f-43ea-dcc2-43a7183288b4"
      },
      "outputs": [
        {
          "name": "stdout",
          "output_type": "stream",
          "text": [
            "Closeness centrality of node 10 is:\n"
          ]
        },
        {
          "data": {
            "text/plain": [
              "0.8181818181818182"
            ]
          },
          "execution_count": 19,
          "metadata": {},
          "output_type": "execute_result"
        }
      ],
      "source": [
        "print(\"Closeness centrality of node 10 is:\");\n",
        "closeness_centrality = nx.closeness_centrality(G)\n",
        "closeness_centrality['10']"
      ]
    },
    {
      "cell_type": "markdown",
      "id": "261e2d2e",
      "metadata": {},
      "source": [
        "# 6) Find all the paths to reach 4 from 6"
      ]
    },
    {
      "cell_type": "code",
      "execution_count": null,
      "id": "6c5b6313",
      "metadata": {
        "id": "6c5b6313",
        "outputId": "97beeb18-193f-41df-cdd2-dbe0dd98df31"
      },
      "outputs": [
        {
          "name": "stdout",
          "output_type": "stream",
          "text": [
            "All paths from node 4 to 6 are:\n",
            "[['4', '2', '1', '3', '8', '6'], ['4', '2', '1', '3', '8', '10', '5', '6'], ['4', '2', '1', '3', '8', '10', '5', '9', '6'], ['4', '2', '1', '3', '8', '10', '7', '9', '5', '6'], ['4', '2', '1', '3', '8', '10', '7', '9', '6'], ['4', '2', '1', '3', '9', '5', '6'], ['4', '2', '1', '3', '9', '5', '10', '8', '6'], ['4', '2', '1', '3', '9', '6'], ['4', '2', '1', '3', '9', '7', '10', '5', '6'], ['4', '2', '1', '3', '9', '7', '10', '8', '6'], ['4', '2', '1', '3', '10', '5', '6'], ['4', '2', '1', '3', '10', '5', '9', '6'], ['4', '2', '1', '3', '10', '7', '9', '5', '6'], ['4', '2', '1', '3', '10', '7', '9', '6'], ['4', '2', '1', '3', '10', '8', '6'], ['4', '2', '1', '5', '6'], ['4', '2', '1', '5', '9', '3', '8', '6'], ['4', '2', '1', '5', '9', '3', '10', '8', '6'], ['4', '2', '1', '5', '9', '6'], ['4', '2', '1', '5', '9', '7', '10', '3', '8', '6'], ['4', '2', '1', '5', '9', '7', '10', '8', '6'], ['4', '2', '1', '5', '10', '3', '8', '6'], ['4', '2', '1', '5', '10', '3', '9', '6'], ['4', '2', '1', '5', '10', '7', '9', '3', '8', '6'], ['4', '2', '1', '5', '10', '7', '9', '6'], ['4', '2', '1', '5', '10', '8', '3', '9', '6'], ['4', '2', '1', '5', '10', '8', '6'], ['4', '2', '1', '6'], ['4', '2', '1', '7', '9', '3', '8', '6'], ['4', '2', '1', '7', '9', '3', '8', '10', '5', '6'], ['4', '2', '1', '7', '9', '3', '10', '5', '6'], ['4', '2', '1', '7', '9', '3', '10', '8', '6'], ['4', '2', '1', '7', '9', '5', '6'], ['4', '2', '1', '7', '9', '5', '10', '3', '8', '6'], ['4', '2', '1', '7', '9', '5', '10', '8', '6'], ['4', '2', '1', '7', '9', '6'], ['4', '2', '1', '7', '10', '3', '8', '6'], ['4', '2', '1', '7', '10', '3', '9', '5', '6'], ['4', '2', '1', '7', '10', '3', '9', '6'], ['4', '2', '1', '7', '10', '5', '6'], ['4', '2', '1', '7', '10', '5', '9', '3', '8', '6'], ['4', '2', '1', '7', '10', '5', '9', '6'], ['4', '2', '1', '7', '10', '8', '3', '9', '5', '6'], ['4', '2', '1', '7', '10', '8', '3', '9', '6'], ['4', '2', '1', '7', '10', '8', '6'], ['4', '2', '1', '10', '3', '8', '6'], ['4', '2', '1', '10', '3', '9', '5', '6'], ['4', '2', '1', '10', '3', '9', '6'], ['4', '2', '1', '10', '5', '6'], ['4', '2', '1', '10', '5', '9', '3', '8', '6'], ['4', '2', '1', '10', '5', '9', '6'], ['4', '2', '1', '10', '7', '9', '3', '8', '6'], ['4', '2', '1', '10', '7', '9', '5', '6'], ['4', '2', '1', '10', '7', '9', '6'], ['4', '2', '1', '10', '8', '3', '9', '5', '6'], ['4', '2', '1', '10', '8', '3', '9', '6'], ['4', '2', '1', '10', '8', '6'], ['4', '2', '3', '1', '5', '6'], ['4', '2', '3', '1', '5', '9', '6'], ['4', '2', '3', '1', '5', '9', '7', '10', '8', '6'], ['4', '2', '3', '1', '5', '10', '7', '9', '6'], ['4', '2', '3', '1', '5', '10', '8', '6'], ['4', '2', '3', '1', '6'], ['4', '2', '3', '1', '7', '9', '5', '6'], ['4', '2', '3', '1', '7', '9', '5', '10', '8', '6'], ['4', '2', '3', '1', '7', '9', '6'], ['4', '2', '3', '1', '7', '10', '5', '6'], ['4', '2', '3', '1', '7', '10', '5', '9', '6'], ['4', '2', '3', '1', '7', '10', '8', '6'], ['4', '2', '3', '1', '10', '5', '6'], ['4', '2', '3', '1', '10', '5', '9', '6'], ['4', '2', '3', '1', '10', '7', '9', '5', '6'], ['4', '2', '3', '1', '10', '7', '9', '6'], ['4', '2', '3', '1', '10', '8', '6'], ['4', '2', '3', '8', '6'], ['4', '2', '3', '8', '10', '1', '5', '6'], ['4', '2', '3', '8', '10', '1', '5', '9', '6'], ['4', '2', '3', '8', '10', '1', '6'], ['4', '2', '3', '8', '10', '1', '7', '9', '5', '6'], ['4', '2', '3', '8', '10', '1', '7', '9', '6'], ['4', '2', '3', '8', '10', '5', '1', '6'], ['4', '2', '3', '8', '10', '5', '1', '7', '9', '6'], ['4', '2', '3', '8', '10', '5', '6'], ['4', '2', '3', '8', '10', '5', '9', '6'], ['4', '2', '3', '8', '10', '5', '9', '7', '1', '6'], ['4', '2', '3', '8', '10', '7', '1', '5', '6'], ['4', '2', '3', '8', '10', '7', '1', '5', '9', '6'], ['4', '2', '3', '8', '10', '7', '1', '6'], ['4', '2', '3', '8', '10', '7', '9', '5', '1', '6'], ['4', '2', '3', '8', '10', '7', '9', '5', '6'], ['4', '2', '3', '8', '10', '7', '9', '6'], ['4', '2', '3', '9', '5', '1', '6'], ['4', '2', '3', '9', '5', '1', '7', '10', '8', '6'], ['4', '2', '3', '9', '5', '1', '10', '8', '6'], ['4', '2', '3', '9', '5', '6'], ['4', '2', '3', '9', '5', '10', '1', '6'], ['4', '2', '3', '9', '5', '10', '7', '1', '6'], ['4', '2', '3', '9', '5', '10', '8', '6'], ['4', '2', '3', '9', '6'], ['4', '2', '3', '9', '7', '1', '5', '6'], ['4', '2', '3', '9', '7', '1', '5', '10', '8', '6'], ['4', '2', '3', '9', '7', '1', '6'], ['4', '2', '3', '9', '7', '1', '10', '5', '6'], ['4', '2', '3', '9', '7', '1', '10', '8', '6'], ['4', '2', '3', '9', '7', '10', '1', '5', '6'], ['4', '2', '3', '9', '7', '10', '1', '6'], ['4', '2', '3', '9', '7', '10', '5', '1', '6'], ['4', '2', '3', '9', '7', '10', '5', '6'], ['4', '2', '3', '9', '7', '10', '8', '6'], ['4', '2', '3', '10', '1', '5', '6'], ['4', '2', '3', '10', '1', '5', '9', '6'], ['4', '2', '3', '10', '1', '6'], ['4', '2', '3', '10', '1', '7', '9', '5', '6'], ['4', '2', '3', '10', '1', '7', '9', '6'], ['4', '2', '3', '10', '5', '1', '6'], ['4', '2', '3', '10', '5', '1', '7', '9', '6'], ['4', '2', '3', '10', '5', '6'], ['4', '2', '3', '10', '5', '9', '6'], ['4', '2', '3', '10', '5', '9', '7', '1', '6'], ['4', '2', '3', '10', '7', '1', '5', '6'], ['4', '2', '3', '10', '7', '1', '5', '9', '6'], ['4', '2', '3', '10', '7', '1', '6'], ['4', '2', '3', '10', '7', '9', '5', '1', '6'], ['4', '2', '3', '10', '7', '9', '5', '6'], ['4', '2', '3', '10', '7', '9', '6'], ['4', '2', '3', '10', '8', '6'], ['4', '2', '8', '3', '1', '5', '6'], ['4', '2', '8', '3', '1', '5', '9', '6'], ['4', '2', '8', '3', '1', '5', '10', '7', '9', '6'], ['4', '2', '8', '3', '1', '6'], ['4', '2', '8', '3', '1', '7', '9', '5', '6'], ['4', '2', '8', '3', '1', '7', '9', '6'], ['4', '2', '8', '3', '1', '7', '10', '5', '6'], ['4', '2', '8', '3', '1', '7', '10', '5', '9', '6'], ['4', '2', '8', '3', '1', '10', '5', '6'], ['4', '2', '8', '3', '1', '10', '5', '9', '6'], ['4', '2', '8', '3', '1', '10', '7', '9', '5', '6'], ['4', '2', '8', '3', '1', '10', '7', '9', '6'], ['4', '2', '8', '3', '9', '5', '1', '6'], ['4', '2', '8', '3', '9', '5', '6'], ['4', '2', '8', '3', '9', '5', '10', '1', '6'], ['4', '2', '8', '3', '9', '5', '10', '7', '1', '6'], ['4', '2', '8', '3', '9', '6'], ['4', '2', '8', '3', '9', '7', '1', '5', '6'], ['4', '2', '8', '3', '9', '7', '1', '6'], ['4', '2', '8', '3', '9', '7', '1', '10', '5', '6'], ['4', '2', '8', '3', '9', '7', '10', '1', '5', '6'], ['4', '2', '8', '3', '9', '7', '10', '1', '6'], ['4', '2', '8', '3', '9', '7', '10', '5', '1', '6'], ['4', '2', '8', '3', '9', '7', '10', '5', '6'], ['4', '2', '8', '3', '10', '1', '5', '6'], ['4', '2', '8', '3', '10', '1', '5', '9', '6'], ['4', '2', '8', '3', '10', '1', '6'], ['4', '2', '8', '3', '10', '1', '7', '9', '5', '6'], ['4', '2', '8', '3', '10', '1', '7', '9', '6'], ['4', '2', '8', '3', '10', '5', '1', '6'], ['4', '2', '8', '3', '10', '5', '1', '7', '9', '6'], ['4', '2', '8', '3', '10', '5', '6'], ['4', '2', '8', '3', '10', '5', '9', '6'], ['4', '2', '8', '3', '10', '5', '9', '7', '1', '6'], ['4', '2', '8', '3', '10', '7', '1', '5', '6'], ['4', '2', '8', '3', '10', '7', '1', '5', '9', '6'], ['4', '2', '8', '3', '10', '7', '1', '6'], ['4', '2', '8', '3', '10', '7', '9', '5', '1', '6'], ['4', '2', '8', '3', '10', '7', '9', '5', '6'], ['4', '2', '8', '3', '10', '7', '9', '6'], ['4', '2', '8', '6'], ['4', '2', '8', '10', '1', '3', '9', '5', '6'], ['4', '2', '8', '10', '1', '3', '9', '6'], ['4', '2', '8', '10', '1', '5', '6'], ['4', '2', '8', '10', '1', '5', '9', '6'], ['4', '2', '8', '10', '1', '6'], ['4', '2', '8', '10', '1', '7', '9', '5', '6'], ['4', '2', '8', '10', '1', '7', '9', '6'], ['4', '2', '8', '10', '3', '1', '5', '6'], ['4', '2', '8', '10', '3', '1', '5', '9', '6'], ['4', '2', '8', '10', '3', '1', '6'], ['4', '2', '8', '10', '3', '1', '7', '9', '5', '6'], ['4', '2', '8', '10', '3', '1', '7', '9', '6'], ['4', '2', '8', '10', '3', '9', '5', '1', '6'], ['4', '2', '8', '10', '3', '9', '5', '6'], ['4', '2', '8', '10', '3', '9', '6'], ['4', '2', '8', '10', '3', '9', '7', '1', '5', '6'], ['4', '2', '8', '10', '3', '9', '7', '1', '6'], ['4', '2', '8', '10', '5', '1', '3', '9', '6'], ['4', '2', '8', '10', '5', '1', '6'], ['4', '2', '8', '10', '5', '1', '7', '9', '6'], ['4', '2', '8', '10', '5', '6'], ['4', '2', '8', '10', '5', '9', '3', '1', '6'], ['4', '2', '8', '10', '5', '9', '6'], ['4', '2', '8', '10', '5', '9', '7', '1', '6'], ['4', '2', '8', '10', '7', '1', '3', '9', '5', '6'], ['4', '2', '8', '10', '7', '1', '3', '9', '6'], ['4', '2', '8', '10', '7', '1', '5', '6'], ['4', '2', '8', '10', '7', '1', '5', '9', '6'], ['4', '2', '8', '10', '7', '1', '6'], ['4', '2', '8', '10', '7', '9', '3', '1', '5', '6'], ['4', '2', '8', '10', '7', '9', '3', '1', '6'], ['4', '2', '8', '10', '7', '9', '5', '1', '6'], ['4', '2', '8', '10', '7', '9', '5', '6'], ['4', '2', '8', '10', '7', '9', '6'], ['4', '2', '9', '3', '1', '5', '6'], ['4', '2', '9', '3', '1', '5', '10', '8', '6'], ['4', '2', '9', '3', '1', '6'], ['4', '2', '9', '3', '1', '7', '10', '5', '6'], ['4', '2', '9', '3', '1', '7', '10', '8', '6'], ['4', '2', '9', '3', '1', '10', '5', '6'], ['4', '2', '9', '3', '1', '10', '8', '6'], ['4', '2', '9', '3', '8', '6'], ['4', '2', '9', '3', '8', '10', '1', '5', '6'], ['4', '2', '9', '3', '8', '10', '1', '6'], ['4', '2', '9', '3', '8', '10', '5', '1', '6'], ['4', '2', '9', '3', '8', '10', '5', '6'], ['4', '2', '9', '3', '8', '10', '7', '1', '5', '6'], ['4', '2', '9', '3', '8', '10', '7', '1', '6'], ['4', '2', '9', '3', '10', '1', '5', '6'], ['4', '2', '9', '3', '10', '1', '6'], ['4', '2', '9', '3', '10', '5', '1', '6'], ['4', '2', '9', '3', '10', '5', '6'], ['4', '2', '9', '3', '10', '7', '1', '5', '6'], ['4', '2', '9', '3', '10', '7', '1', '6'], ['4', '2', '9', '3', '10', '8', '6'], ['4', '2', '9', '5', '1', '3', '8', '6'], ['4', '2', '9', '5', '1', '3', '10', '8', '6'], ['4', '2', '9', '5', '1', '6'], ['4', '2', '9', '5', '1', '7', '10', '3', '8', '6'], ['4', '2', '9', '5', '1', '7', '10', '8', '6'], ['4', '2', '9', '5', '1', '10', '3', '8', '6'], ['4', '2', '9', '5', '1', '10', '8', '6'], ['4', '2', '9', '5', '6'], ['4', '2', '9', '5', '10', '1', '3', '8', '6'], ['4', '2', '9', '5', '10', '1', '6'], ['4', '2', '9', '5', '10', '3', '1', '6'], ['4', '2', '9', '5', '10', '3', '8', '6'], ['4', '2', '9', '5', '10', '7', '1', '3', '8', '6'], ['4', '2', '9', '5', '10', '7', '1', '6'], ['4', '2', '9', '5', '10', '8', '3', '1', '6'], ['4', '2', '9', '5', '10', '8', '6'], ['4', '2', '9', '6'], ['4', '2', '9', '7', '1', '3', '8', '6'], ['4', '2', '9', '7', '1', '3', '8', '10', '5', '6'], ['4', '2', '9', '7', '1', '3', '10', '5', '6'], ['4', '2', '9', '7', '1', '3', '10', '8', '6'], ['4', '2', '9', '7', '1', '5', '6'], ['4', '2', '9', '7', '1', '5', '10', '3', '8', '6'], ['4', '2', '9', '7', '1', '5', '10', '8', '6'], ['4', '2', '9', '7', '1', '6'], ['4', '2', '9', '7', '1', '10', '3', '8', '6'], ['4', '2', '9', '7', '1', '10', '5', '6'], ['4', '2', '9', '7', '1', '10', '8', '6'], ['4', '2', '9', '7', '10', '1', '3', '8', '6'], ['4', '2', '9', '7', '10', '1', '5', '6'], ['4', '2', '9', '7', '10', '1', '6'], ['4', '2', '9', '7', '10', '3', '1', '5', '6'], ['4', '2', '9', '7', '10', '3', '1', '6'], ['4', '2', '9', '7', '10', '3', '8', '6'], ['4', '2', '9', '7', '10', '5', '1', '3', '8', '6'], ['4', '2', '9', '7', '10', '5', '1', '6'], ['4', '2', '9', '7', '10', '5', '6'], ['4', '2', '9', '7', '10', '8', '3', '1', '5', '6'], ['4', '2', '9', '7', '10', '8', '3', '1', '6'], ['4', '2', '9', '7', '10', '8', '6'], ['4', '2', '10', '1', '3', '8', '6'], ['4', '2', '10', '1', '3', '9', '5', '6'], ['4', '2', '10', '1', '3', '9', '6'], ['4', '2', '10', '1', '5', '6'], ['4', '2', '10', '1', '5', '9', '3', '8', '6'], ['4', '2', '10', '1', '5', '9', '6'], ['4', '2', '10', '1', '6'], ['4', '2', '10', '1', '7', '9', '3', '8', '6'], ['4', '2', '10', '1', '7', '9', '5', '6'], ['4', '2', '10', '1', '7', '9', '6'], ['4', '2', '10', '3', '1', '5', '6'], ['4', '2', '10', '3', '1', '5', '9', '6'], ['4', '2', '10', '3', '1', '6'], ['4', '2', '10', '3', '1', '7', '9', '5', '6'], ['4', '2', '10', '3', '1', '7', '9', '6'], ['4', '2', '10', '3', '8', '6'], ['4', '2', '10', '3', '9', '5', '1', '6'], ['4', '2', '10', '3', '9', '5', '6'], ['4', '2', '10', '3', '9', '6'], ['4', '2', '10', '3', '9', '7', '1', '5', '6'], ['4', '2', '10', '3', '9', '7', '1', '6'], ['4', '2', '10', '5', '1', '3', '8', '6'], ['4', '2', '10', '5', '1', '3', '9', '6'], ['4', '2', '10', '5', '1', '6'], ['4', '2', '10', '5', '1', '7', '9', '3', '8', '6'], ['4', '2', '10', '5', '1', '7', '9', '6'], ['4', '2', '10', '5', '6'], ['4', '2', '10', '5', '9', '3', '1', '6'], ['4', '2', '10', '5', '9', '3', '8', '6'], ['4', '2', '10', '5', '9', '6'], ['4', '2', '10', '5', '9', '7', '1', '3', '8', '6'], ['4', '2', '10', '5', '9', '7', '1', '6'], ['4', '2', '10', '7', '1', '3', '8', '6'], ['4', '2', '10', '7', '1', '3', '9', '5', '6'], ['4', '2', '10', '7', '1', '3', '9', '6'], ['4', '2', '10', '7', '1', '5', '6'], ['4', '2', '10', '7', '1', '5', '9', '3', '8', '6'], ['4', '2', '10', '7', '1', '5', '9', '6'], ['4', '2', '10', '7', '1', '6'], ['4', '2', '10', '7', '9', '3', '1', '5', '6'], ['4', '2', '10', '7', '9', '3', '1', '6'], ['4', '2', '10', '7', '9', '3', '8', '6'], ['4', '2', '10', '7', '9', '5', '1', '3', '8', '6'], ['4', '2', '10', '7', '9', '5', '1', '6'], ['4', '2', '10', '7', '9', '5', '6'], ['4', '2', '10', '7', '9', '6'], ['4', '2', '10', '8', '3', '1', '5', '6'], ['4', '2', '10', '8', '3', '1', '5', '9', '6'], ['4', '2', '10', '8', '3', '1', '6'], ['4', '2', '10', '8', '3', '1', '7', '9', '5', '6'], ['4', '2', '10', '8', '3', '1', '7', '9', '6'], ['4', '2', '10', '8', '3', '9', '5', '1', '6'], ['4', '2', '10', '8', '3', '9', '5', '6'], ['4', '2', '10', '8', '3', '9', '6'], ['4', '2', '10', '8', '3', '9', '7', '1', '5', '6'], ['4', '2', '10', '8', '3', '9', '7', '1', '6'], ['4', '2', '10', '8', '6'], ['4', '7', '1', '2', '3', '8', '6'], ['4', '7', '1', '2', '3', '8', '10', '5', '6'], ['4', '7', '1', '2', '3', '8', '10', '5', '9', '6'], ['4', '7', '1', '2', '3', '9', '5', '6'], ['4', '7', '1', '2', '3', '9', '5', '10', '8', '6'], ['4', '7', '1', '2', '3', '9', '6'], ['4', '7', '1', '2', '3', '10', '5', '6'], ['4', '7', '1', '2', '3', '10', '5', '9', '6'], ['4', '7', '1', '2', '3', '10', '8', '6'], ['4', '7', '1', '2', '8', '3', '9', '5', '6'], ['4', '7', '1', '2', '8', '3', '9', '6'], ['4', '7', '1', '2', '8', '3', '10', '5', '6'], ['4', '7', '1', '2', '8', '3', '10', '5', '9', '6'], ['4', '7', '1', '2', '8', '6'], ['4', '7', '1', '2', '8', '10', '3', '9', '5', '6'], ['4', '7', '1', '2', '8', '10', '3', '9', '6'], ['4', '7', '1', '2', '8', '10', '5', '6'], ['4', '7', '1', '2', '8', '10', '5', '9', '6'], ['4', '7', '1', '2', '9', '3', '8', '6'], ['4', '7', '1', '2', '9', '3', '8', '10', '5', '6'], ['4', '7', '1', '2', '9', '3', '10', '5', '6'], ['4', '7', '1', '2', '9', '3', '10', '8', '6'], ['4', '7', '1', '2', '9', '5', '6'], ['4', '7', '1', '2', '9', '5', '10', '3', '8', '6'], ['4', '7', '1', '2', '9', '5', '10', '8', '6'], ['4', '7', '1', '2', '9', '6'], ['4', '7', '1', '2', '10', '3', '8', '6'], ['4', '7', '1', '2', '10', '3', '9', '5', '6'], ['4', '7', '1', '2', '10', '3', '9', '6'], ['4', '7', '1', '2', '10', '5', '6'], ['4', '7', '1', '2', '10', '5', '9', '3', '8', '6'], ['4', '7', '1', '2', '10', '5', '9', '6'], ['4', '7', '1', '2', '10', '8', '3', '9', '5', '6'], ['4', '7', '1', '2', '10', '8', '3', '9', '6'], ['4', '7', '1', '2', '10', '8', '6'], ['4', '7', '1', '3', '2', '8', '6'], ['4', '7', '1', '3', '2', '8', '10', '5', '6'], ['4', '7', '1', '3', '2', '8', '10', '5', '9', '6'], ['4', '7', '1', '3', '2', '9', '5', '6'], ['4', '7', '1', '3', '2', '9', '5', '10', '8', '6'], ['4', '7', '1', '3', '2', '9', '6'], ['4', '7', '1', '3', '2', '10', '5', '6'], ['4', '7', '1', '3', '2', '10', '5', '9', '6'], ['4', '7', '1', '3', '2', '10', '8', '6'], ['4', '7', '1', '3', '8', '2', '9', '5', '6'], ['4', '7', '1', '3', '8', '2', '9', '6'], ['4', '7', '1', '3', '8', '2', '10', '5', '6'], ['4', '7', '1', '3', '8', '2', '10', '5', '9', '6'], ['4', '7', '1', '3', '8', '6'], ['4', '7', '1', '3', '8', '10', '2', '9', '5', '6'], ['4', '7', '1', '3', '8', '10', '2', '9', '6'], ['4', '7', '1', '3', '8', '10', '5', '6'], ['4', '7', '1', '3', '8', '10', '5', '9', '6'], ['4', '7', '1', '3', '9', '2', '8', '6'], ['4', '7', '1', '3', '9', '2', '8', '10', '5', '6'], ['4', '7', '1', '3', '9', '2', '10', '5', '6'], ['4', '7', '1', '3', '9', '2', '10', '8', '6'], ['4', '7', '1', '3', '9', '5', '6'], ['4', '7', '1', '3', '9', '5', '10', '2', '8', '6'], ['4', '7', '1', '3', '9', '5', '10', '8', '6'], ['4', '7', '1', '3', '9', '6'], ['4', '7', '1', '3', '10', '2', '8', '6'], ['4', '7', '1', '3', '10', '2', '9', '5', '6'], ['4', '7', '1', '3', '10', '2', '9', '6'], ['4', '7', '1', '3', '10', '5', '6'], ['4', '7', '1', '3', '10', '5', '9', '2', '8', '6'], ['4', '7', '1', '3', '10', '5', '9', '6'], ['4', '7', '1', '3', '10', '8', '2', '9', '5', '6'], ['4', '7', '1', '3', '10', '8', '2', '9', '6'], ['4', '7', '1', '3', '10', '8', '6'], ['4', '7', '1', '5', '6'], ['4', '7', '1', '5', '9', '2', '3', '8', '6'], ['4', '7', '1', '5', '9', '2', '3', '10', '8', '6'], ['4', '7', '1', '5', '9', '2', '8', '6'], ['4', '7', '1', '5', '9', '2', '10', '3', '8', '6'], ['4', '7', '1', '5', '9', '2', '10', '8', '6'], ['4', '7', '1', '5', '9', '3', '2', '8', '6'], ['4', '7', '1', '5', '9', '3', '2', '10', '8', '6'], ['4', '7', '1', '5', '9', '3', '8', '6'], ['4', '7', '1', '5', '9', '3', '10', '2', '8', '6'], ['4', '7', '1', '5', '9', '3', '10', '8', '6'], ['4', '7', '1', '5', '9', '6'], ['4', '7', '1', '5', '10', '2', '3', '8', '6'], ['4', '7', '1', '5', '10', '2', '3', '9', '6'], ['4', '7', '1', '5', '10', '2', '8', '3', '9', '6'], ['4', '7', '1', '5', '10', '2', '8', '6'], ['4', '7', '1', '5', '10', '2', '9', '3', '8', '6'], ['4', '7', '1', '5', '10', '2', '9', '6'], ['4', '7', '1', '5', '10', '3', '2', '8', '6'], ['4', '7', '1', '5', '10', '3', '2', '9', '6'], ['4', '7', '1', '5', '10', '3', '8', '2', '9', '6'], ['4', '7', '1', '5', '10', '3', '8', '6'], ['4', '7', '1', '5', '10', '3', '9', '2', '8', '6'], ['4', '7', '1', '5', '10', '3', '9', '6'], ['4', '7', '1', '5', '10', '8', '2', '3', '9', '6'], ['4', '7', '1', '5', '10', '8', '2', '9', '6'], ['4', '7', '1', '5', '10', '8', '3', '2', '9', '6'], ['4', '7', '1', '5', '10', '8', '3', '9', '6'], ['4', '7', '1', '5', '10', '8', '6'], ['4', '7', '1', '6'], ['4', '7', '1', '10', '2', '3', '8', '6'], ['4', '7', '1', '10', '2', '3', '9', '5', '6'], ['4', '7', '1', '10', '2', '3', '9', '6'], ['4', '7', '1', '10', '2', '8', '3', '9', '5', '6'], ['4', '7', '1', '10', '2', '8', '3', '9', '6'], ['4', '7', '1', '10', '2', '8', '6'], ['4', '7', '1', '10', '2', '9', '3', '8', '6'], ['4', '7', '1', '10', '2', '9', '5', '6'], ['4', '7', '1', '10', '2', '9', '6'], ['4', '7', '1', '10', '3', '2', '8', '6'], ['4', '7', '1', '10', '3', '2', '9', '5', '6'], ['4', '7', '1', '10', '3', '2', '9', '6'], ['4', '7', '1', '10', '3', '8', '2', '9', '5', '6'], ['4', '7', '1', '10', '3', '8', '2', '9', '6'], ['4', '7', '1', '10', '3', '8', '6'], ['4', '7', '1', '10', '3', '9', '2', '8', '6'], ['4', '7', '1', '10', '3', '9', '5', '6'], ['4', '7', '1', '10', '3', '9', '6'], ['4', '7', '1', '10', '5', '6'], ['4', '7', '1', '10', '5', '9', '2', '3', '8', '6'], ['4', '7', '1', '10', '5', '9', '2', '8', '6'], ['4', '7', '1', '10', '5', '9', '3', '2', '8', '6'], ['4', '7', '1', '10', '5', '9', '3', '8', '6'], ['4', '7', '1', '10', '5', '9', '6'], ['4', '7', '1', '10', '8', '2', '3', '9', '5', '6'], ['4', '7', '1', '10', '8', '2', '3', '9', '6'], ['4', '7', '1', '10', '8', '2', '9', '5', '6'], ['4', '7', '1', '10', '8', '2', '9', '6'], ['4', '7', '1', '10', '8', '3', '2', '9', '5', '6'], ['4', '7', '1', '10', '8', '3', '2', '9', '6'], ['4', '7', '1', '10', '8', '3', '9', '5', '6'], ['4', '7', '1', '10', '8', '3', '9', '6'], ['4', '7', '1', '10', '8', '6'], ['4', '7', '9', '2', '1', '3', '8', '6'], ['4', '7', '9', '2', '1', '3', '8', '10', '5', '6'], ['4', '7', '9', '2', '1', '3', '10', '5', '6'], ['4', '7', '9', '2', '1', '3', '10', '8', '6'], ['4', '7', '9', '2', '1', '5', '6'], ['4', '7', '9', '2', '1', '5', '10', '3', '8', '6'], ['4', '7', '9', '2', '1', '5', '10', '8', '6'], ['4', '7', '9', '2', '1', '6'], ['4', '7', '9', '2', '1', '10', '3', '8', '6'], ['4', '7', '9', '2', '1', '10', '5', '6'], ['4', '7', '9', '2', '1', '10', '8', '6'], ['4', '7', '9', '2', '3', '1', '5', '6'], ['4', '7', '9', '2', '3', '1', '5', '10', '8', '6'], ['4', '7', '9', '2', '3', '1', '6'], ['4', '7', '9', '2', '3', '1', '10', '5', '6'], ['4', '7', '9', '2', '3', '1', '10', '8', '6'], ['4', '7', '9', '2', '3', '8', '6'], ['4', '7', '9', '2', '3', '8', '10', '1', '5', '6'], ['4', '7', '9', '2', '3', '8', '10', '1', '6'], ['4', '7', '9', '2', '3', '8', '10', '5', '1', '6'], ['4', '7', '9', '2', '3', '8', '10', '5', '6'], ['4', '7', '9', '2', '3', '10', '1', '5', '6'], ['4', '7', '9', '2', '3', '10', '1', '6'], ['4', '7', '9', '2', '3', '10', '5', '1', '6'], ['4', '7', '9', '2', '3', '10', '5', '6'], ['4', '7', '9', '2', '3', '10', '8', '6'], ['4', '7', '9', '2', '8', '3', '1', '5', '6'], ['4', '7', '9', '2', '8', '3', '1', '6'], ['4', '7', '9', '2', '8', '3', '1', '10', '5', '6'], ['4', '7', '9', '2', '8', '3', '10', '1', '5', '6'], ['4', '7', '9', '2', '8', '3', '10', '1', '6'], ['4', '7', '9', '2', '8', '3', '10', '5', '1', '6'], ['4', '7', '9', '2', '8', '3', '10', '5', '6'], ['4', '7', '9', '2', '8', '6'], ['4', '7', '9', '2', '8', '10', '1', '5', '6'], ['4', '7', '9', '2', '8', '10', '1', '6'], ['4', '7', '9', '2', '8', '10', '3', '1', '5', '6'], ['4', '7', '9', '2', '8', '10', '3', '1', '6'], ['4', '7', '9', '2', '8', '10', '5', '1', '6'], ['4', '7', '9', '2', '8', '10', '5', '6'], ['4', '7', '9', '2', '10', '1', '3', '8', '6'], ['4', '7', '9', '2', '10', '1', '5', '6'], ['4', '7', '9', '2', '10', '1', '6'], ['4', '7', '9', '2', '10', '3', '1', '5', '6'], ['4', '7', '9', '2', '10', '3', '1', '6'], ['4', '7', '9', '2', '10', '3', '8', '6'], ['4', '7', '9', '2', '10', '5', '1', '3', '8', '6'], ['4', '7', '9', '2', '10', '5', '1', '6'], ['4', '7', '9', '2', '10', '5', '6'], ['4', '7', '9', '2', '10', '8', '3', '1', '5', '6'], ['4', '7', '9', '2', '10', '8', '3', '1', '6'], ['4', '7', '9', '2', '10', '8', '6'], ['4', '7', '9', '3', '1', '2', '8', '6'], ['4', '7', '9', '3', '1', '2', '8', '10', '5', '6'], ['4', '7', '9', '3', '1', '2', '10', '5', '6'], ['4', '7', '9', '3', '1', '2', '10', '8', '6'], ['4', '7', '9', '3', '1', '5', '6'], ['4', '7', '9', '3', '1', '5', '10', '2', '8', '6'], ['4', '7', '9', '3', '1', '5', '10', '8', '6'], ['4', '7', '9', '3', '1', '6'], ['4', '7', '9', '3', '1', '10', '2', '8', '6'], ['4', '7', '9', '3', '1', '10', '5', '6'], ['4', '7', '9', '3', '1', '10', '8', '6'], ['4', '7', '9', '3', '2', '1', '5', '6'], ['4', '7', '9', '3', '2', '1', '5', '10', '8', '6'], ['4', '7', '9', '3', '2', '1', '6'], ['4', '7', '9', '3', '2', '1', '10', '5', '6'], ['4', '7', '9', '3', '2', '1', '10', '8', '6'], ['4', '7', '9', '3', '2', '8', '6'], ['4', '7', '9', '3', '2', '8', '10', '1', '5', '6'], ['4', '7', '9', '3', '2', '8', '10', '1', '6'], ['4', '7', '9', '3', '2', '8', '10', '5', '1', '6'], ['4', '7', '9', '3', '2', '8', '10', '5', '6'], ['4', '7', '9', '3', '2', '10', '1', '5', '6'], ['4', '7', '9', '3', '2', '10', '1', '6'], ['4', '7', '9', '3', '2', '10', '5', '1', '6'], ['4', '7', '9', '3', '2', '10', '5', '6'], ['4', '7', '9', '3', '2', '10', '8', '6'], ['4', '7', '9', '3', '8', '2', '1', '5', '6'], ['4', '7', '9', '3', '8', '2', '1', '6'], ['4', '7', '9', '3', '8', '2', '1', '10', '5', '6'], ['4', '7', '9', '3', '8', '2', '10', '1', '5', '6'], ['4', '7', '9', '3', '8', '2', '10', '1', '6'], ['4', '7', '9', '3', '8', '2', '10', '5', '1', '6'], ['4', '7', '9', '3', '8', '2', '10', '5', '6'], ['4', '7', '9', '3', '8', '6'], ['4', '7', '9', '3', '8', '10', '1', '5', '6'], ['4', '7', '9', '3', '8', '10', '1', '6'], ['4', '7', '9', '3', '8', '10', '2', '1', '5', '6'], ['4', '7', '9', '3', '8', '10', '2', '1', '6'], ['4', '7', '9', '3', '8', '10', '5', '1', '6'], ['4', '7', '9', '3', '8', '10', '5', '6'], ['4', '7', '9', '3', '10', '1', '2', '8', '6'], ['4', '7', '9', '3', '10', '1', '5', '6'], ['4', '7', '9', '3', '10', '1', '6'], ['4', '7', '9', '3', '10', '2', '1', '5', '6'], ['4', '7', '9', '3', '10', '2', '1', '6'], ['4', '7', '9', '3', '10', '2', '8', '6'], ['4', '7', '9', '3', '10', '5', '1', '2', '8', '6'], ['4', '7', '9', '3', '10', '5', '1', '6'], ['4', '7', '9', '3', '10', '5', '6'], ['4', '7', '9', '3', '10', '8', '2', '1', '5', '6'], ['4', '7', '9', '3', '10', '8', '2', '1', '6'], ['4', '7', '9', '3', '10', '8', '6'], ['4', '7', '9', '5', '1', '2', '3', '8', '6'], ['4', '7', '9', '5', '1', '2', '3', '10', '8', '6'], ['4', '7', '9', '5', '1', '2', '8', '6'], ['4', '7', '9', '5', '1', '2', '10', '3', '8', '6'], ['4', '7', '9', '5', '1', '2', '10', '8', '6'], ['4', '7', '9', '5', '1', '3', '2', '8', '6'], ['4', '7', '9', '5', '1', '3', '2', '10', '8', '6'], ['4', '7', '9', '5', '1', '3', '8', '6'], ['4', '7', '9', '5', '1', '3', '10', '2', '8', '6'], ['4', '7', '9', '5', '1', '3', '10', '8', '6'], ['4', '7', '9', '5', '1', '6'], ['4', '7', '9', '5', '1', '10', '2', '3', '8', '6'], ['4', '7', '9', '5', '1', '10', '2', '8', '6'], ['4', '7', '9', '5', '1', '10', '3', '2', '8', '6'], ['4', '7', '9', '5', '1', '10', '3', '8', '6'], ['4', '7', '9', '5', '1', '10', '8', '6'], ['4', '7', '9', '5', '6'], ['4', '7', '9', '5', '10', '1', '2', '3', '8', '6'], ['4', '7', '9', '5', '10', '1', '2', '8', '6'], ['4', '7', '9', '5', '10', '1', '3', '2', '8', '6'], ['4', '7', '9', '5', '10', '1', '3', '8', '6'], ['4', '7', '9', '5', '10', '1', '6'], ['4', '7', '9', '5', '10', '2', '1', '3', '8', '6'], ['4', '7', '9', '5', '10', '2', '1', '6'], ['4', '7', '9', '5', '10', '2', '3', '1', '6'], ['4', '7', '9', '5', '10', '2', '3', '8', '6'], ['4', '7', '9', '5', '10', '2', '8', '3', '1', '6'], ['4', '7', '9', '5', '10', '2', '8', '6'], ['4', '7', '9', '5', '10', '3', '1', '2', '8', '6'], ['4', '7', '9', '5', '10', '3', '1', '6'], ['4', '7', '9', '5', '10', '3', '2', '1', '6'], ['4', '7', '9', '5', '10', '3', '2', '8', '6'], ['4', '7', '9', '5', '10', '3', '8', '2', '1', '6'], ['4', '7', '9', '5', '10', '3', '8', '6'], ['4', '7', '9', '5', '10', '8', '2', '1', '6'], ['4', '7', '9', '5', '10', '8', '2', '3', '1', '6'], ['4', '7', '9', '5', '10', '8', '3', '1', '6'], ['4', '7', '9', '5', '10', '8', '3', '2', '1', '6'], ['4', '7', '9', '5', '10', '8', '6'], ['4', '7', '9', '6'], ['4', '7', '10', '1', '2', '3', '8', '6'], ['4', '7', '10', '1', '2', '3', '9', '5', '6'], ['4', '7', '10', '1', '2', '3', '9', '6'], ['4', '7', '10', '1', '2', '8', '3', '9', '5', '6'], ['4', '7', '10', '1', '2', '8', '3', '9', '6'], ['4', '7', '10', '1', '2', '8', '6'], ['4', '7', '10', '1', '2', '9', '3', '8', '6'], ['4', '7', '10', '1', '2', '9', '5', '6'], ['4', '7', '10', '1', '2', '9', '6'], ['4', '7', '10', '1', '3', '2', '8', '6'], ['4', '7', '10', '1', '3', '2', '9', '5', '6'], ['4', '7', '10', '1', '3', '2', '9', '6'], ['4', '7', '10', '1', '3', '8', '2', '9', '5', '6'], ['4', '7', '10', '1', '3', '8', '2', '9', '6'], ['4', '7', '10', '1', '3', '8', '6'], ['4', '7', '10', '1', '3', '9', '2', '8', '6'], ['4', '7', '10', '1', '3', '9', '5', '6'], ['4', '7', '10', '1', '3', '9', '6'], ['4', '7', '10', '1', '5', '6'], ['4', '7', '10', '1', '5', '9', '2', '3', '8', '6'], ['4', '7', '10', '1', '5', '9', '2', '8', '6'], ['4', '7', '10', '1', '5', '9', '3', '2', '8', '6'], ['4', '7', '10', '1', '5', '9', '3', '8', '6'], ['4', '7', '10', '1', '5', '9', '6'], ['4', '7', '10', '1', '6'], ['4', '7', '10', '2', '1', '3', '8', '6'], ['4', '7', '10', '2', '1', '3', '9', '5', '6'], ['4', '7', '10', '2', '1', '3', '9', '6'], ['4', '7', '10', '2', '1', '5', '6'], ['4', '7', '10', '2', '1', '5', '9', '3', '8', '6'], ['4', '7', '10', '2', '1', '5', '9', '6'], ['4', '7', '10', '2', '1', '6'], ['4', '7', '10', '2', '3', '1', '5', '6'], ['4', '7', '10', '2', '3', '1', '5', '9', '6'], ['4', '7', '10', '2', '3', '1', '6'], ['4', '7', '10', '2', '3', '8', '6'], ['4', '7', '10', '2', '3', '9', '5', '1', '6'], ['4', '7', '10', '2', '3', '9', '5', '6'], ['4', '7', '10', '2', '3', '9', '6'], ['4', '7', '10', '2', '8', '3', '1', '5', '6'], ['4', '7', '10', '2', '8', '3', '1', '5', '9', '6'], ['4', '7', '10', '2', '8', '3', '1', '6'], ['4', '7', '10', '2', '8', '3', '9', '5', '1', '6'], ['4', '7', '10', '2', '8', '3', '9', '5', '6'], ['4', '7', '10', '2', '8', '3', '9', '6'], ['4', '7', '10', '2', '8', '6'], ['4', '7', '10', '2', '9', '3', '1', '5', '6'], ['4', '7', '10', '2', '9', '3', '1', '6'], ['4', '7', '10', '2', '9', '3', '8', '6'], ['4', '7', '10', '2', '9', '5', '1', '3', '8', '6'], ['4', '7', '10', '2', '9', '5', '1', '6'], ['4', '7', '10', '2', '9', '5', '6'], ['4', '7', '10', '2', '9', '6'], ['4', '7', '10', '3', '1', '2', '8', '6'], ['4', '7', '10', '3', '1', '2', '9', '5', '6'], ['4', '7', '10', '3', '1', '2', '9', '6'], ['4', '7', '10', '3', '1', '5', '6'], ['4', '7', '10', '3', '1', '5', '9', '2', '8', '6'], ['4', '7', '10', '3', '1', '5', '9', '6'], ['4', '7', '10', '3', '1', '6'], ['4', '7', '10', '3', '2', '1', '5', '6'], ['4', '7', '10', '3', '2', '1', '5', '9', '6'], ['4', '7', '10', '3', '2', '1', '6'], ['4', '7', '10', '3', '2', '8', '6'], ['4', '7', '10', '3', '2', '9', '5', '1', '6'], ['4', '7', '10', '3', '2', '9', '5', '6'], ['4', '7', '10', '3', '2', '9', '6'], ['4', '7', '10', '3', '8', '2', '1', '5', '6'], ['4', '7', '10', '3', '8', '2', '1', '5', '9', '6'], ['4', '7', '10', '3', '8', '2', '1', '6'], ['4', '7', '10', '3', '8', '2', '9', '5', '1', '6'], ['4', '7', '10', '3', '8', '2', '9', '5', '6'], ['4', '7', '10', '3', '8', '2', '9', '6'], ['4', '7', '10', '3', '8', '6'], ['4', '7', '10', '3', '9', '2', '1', '5', '6'], ['4', '7', '10', '3', '9', '2', '1', '6'], ['4', '7', '10', '3', '9', '2', '8', '6'], ['4', '7', '10', '3', '9', '5', '1', '2', '8', '6'], ['4', '7', '10', '3', '9', '5', '1', '6'], ['4', '7', '10', '3', '9', '5', '6'], ['4', '7', '10', '3', '9', '6'], ['4', '7', '10', '5', '1', '2', '3', '8', '6'], ['4', '7', '10', '5', '1', '2', '3', '9', '6'], ['4', '7', '10', '5', '1', '2', '8', '3', '9', '6'], ['4', '7', '10', '5', '1', '2', '8', '6'], ['4', '7', '10', '5', '1', '2', '9', '3', '8', '6'], ['4', '7', '10', '5', '1', '2', '9', '6'], ['4', '7', '10', '5', '1', '3', '2', '8', '6'], ['4', '7', '10', '5', '1', '3', '2', '9', '6'], ['4', '7', '10', '5', '1', '3', '8', '2', '9', '6'], ['4', '7', '10', '5', '1', '3', '8', '6'], ['4', '7', '10', '5', '1', '3', '9', '2', '8', '6'], ['4', '7', '10', '5', '1', '3', '9', '6'], ['4', '7', '10', '5', '1', '6'], ['4', '7', '10', '5', '6'], ['4', '7', '10', '5', '9', '2', '1', '3', '8', '6'], ['4', '7', '10', '5', '9', '2', '1', '6'], ['4', '7', '10', '5', '9', '2', '3', '1', '6'], ['4', '7', '10', '5', '9', '2', '3', '8', '6'], ['4', '7', '10', '5', '9', '2', '8', '3', '1', '6'], ['4', '7', '10', '5', '9', '2', '8', '6'], ['4', '7', '10', '5', '9', '3', '1', '2', '8', '6'], ['4', '7', '10', '5', '9', '3', '1', '6'], ['4', '7', '10', '5', '9', '3', '2', '1', '6'], ['4', '7', '10', '5', '9', '3', '2', '8', '6'], ['4', '7', '10', '5', '9', '3', '8', '2', '1', '6'], ['4', '7', '10', '5', '9', '3', '8', '6'], ['4', '7', '10', '5', '9', '6'], ['4', '7', '10', '8', '2', '1', '3', '9', '5', '6'], ['4', '7', '10', '8', '2', '1', '3', '9', '6'], ['4', '7', '10', '8', '2', '1', '5', '6'], ['4', '7', '10', '8', '2', '1', '5', '9', '6'], ['4', '7', '10', '8', '2', '1', '6'], ['4', '7', '10', '8', '2', '3', '1', '5', '6'], ['4', '7', '10', '8', '2', '3', '1', '5', '9', '6'], ['4', '7', '10', '8', '2', '3', '1', '6'], ['4', '7', '10', '8', '2', '3', '9', '5', '1', '6'], ['4', '7', '10', '8', '2', '3', '9', '5', '6'], ['4', '7', '10', '8', '2', '3', '9', '6'], ['4', '7', '10', '8', '2', '9', '3', '1', '5', '6'], ['4', '7', '10', '8', '2', '9', '3', '1', '6'], ['4', '7', '10', '8', '2', '9', '5', '1', '6'], ['4', '7', '10', '8', '2', '9', '5', '6'], ['4', '7', '10', '8', '2', '9', '6'], ['4', '7', '10', '8', '3', '1', '2', '9', '5', '6'], ['4', '7', '10', '8', '3', '1', '2', '9', '6'], ['4', '7', '10', '8', '3', '1', '5', '6'], ['4', '7', '10', '8', '3', '1', '5', '9', '6'], ['4', '7', '10', '8', '3', '1', '6'], ['4', '7', '10', '8', '3', '2', '1', '5', '6'], ['4', '7', '10', '8', '3', '2', '1', '5', '9', '6'], ['4', '7', '10', '8', '3', '2', '1', '6'], ['4', '7', '10', '8', '3', '2', '9', '5', '1', '6'], ['4', '7', '10', '8', '3', '2', '9', '5', '6'], ['4', '7', '10', '8', '3', '2', '9', '6'], ['4', '7', '10', '8', '3', '9', '2', '1', '5', '6'], ['4', '7', '10', '8', '3', '9', '2', '1', '6'], ['4', '7', '10', '8', '3', '9', '5', '1', '6'], ['4', '7', '10', '8', '3', '9', '5', '6'], ['4', '7', '10', '8', '3', '9', '6'], ['4', '7', '10', '8', '6'], ['4', '8', '2', '1', '3', '9', '5', '6'], ['4', '8', '2', '1', '3', '9', '6'], ['4', '8', '2', '1', '3', '9', '7', '10', '5', '6'], ['4', '8', '2', '1', '3', '10', '5', '6'], ['4', '8', '2', '1', '3', '10', '5', '9', '6'], ['4', '8', '2', '1', '3', '10', '7', '9', '5', '6'], ['4', '8', '2', '1', '3', '10', '7', '9', '6'], ['4', '8', '2', '1', '5', '6'], ['4', '8', '2', '1', '5', '9', '6'], ['4', '8', '2', '1', '5', '10', '3', '9', '6'], ['4', '8', '2', '1', '5', '10', '7', '9', '6'], ['4', '8', '2', '1', '6'], ['4', '8', '2', '1', '7', '9', '3', '10', '5', '6'], ['4', '8', '2', '1', '7', '9', '5', '6'], ['4', '8', '2', '1', '7', '9', '6'], ['4', '8', '2', '1', '7', '10', '3', '9', '5', '6'], ['4', '8', '2', '1', '7', '10', '3', '9', '6'], ['4', '8', '2', '1', '7', '10', '5', '6'], ['4', '8', '2', '1', '7', '10', '5', '9', '6'], ['4', '8', '2', '1', '10', '3', '9', '5', '6'], ['4', '8', '2', '1', '10', '3', '9', '6'], ['4', '8', '2', '1', '10', '5', '6'], ['4', '8', '2', '1', '10', '5', '9', '6'], ['4', '8', '2', '1', '10', '7', '9', '5', '6'], ['4', '8', '2', '1', '10', '7', '9', '6'], ['4', '8', '2', '3', '1', '5', '6'], ['4', '8', '2', '3', '1', '5', '9', '6'], ['4', '8', '2', '3', '1', '5', '10', '7', '9', '6'], ['4', '8', '2', '3', '1', '6'], ['4', '8', '2', '3', '1', '7', '9', '5', '6'], ['4', '8', '2', '3', '1', '7', '9', '6'], ['4', '8', '2', '3', '1', '7', '10', '5', '6'], ['4', '8', '2', '3', '1', '7', '10', '5', '9', '6'], ['4', '8', '2', '3', '1', '10', '5', '6'], ['4', '8', '2', '3', '1', '10', '5', '9', '6'], ['4', '8', '2', '3', '1', '10', '7', '9', '5', '6'], ['4', '8', '2', '3', '1', '10', '7', '9', '6'], ['4', '8', '2', '3', '9', '5', '1', '6'], ['4', '8', '2', '3', '9', '5', '6'], ['4', '8', '2', '3', '9', '5', '10', '1', '6'], ['4', '8', '2', '3', '9', '5', '10', '7', '1', '6'], ['4', '8', '2', '3', '9', '6'], ['4', '8', '2', '3', '9', '7', '1', '5', '6'], ['4', '8', '2', '3', '9', '7', '1', '6'], ['4', '8', '2', '3', '9', '7', '1', '10', '5', '6'], ['4', '8', '2', '3', '9', '7', '10', '1', '5', '6'], ['4', '8', '2', '3', '9', '7', '10', '1', '6'], ['4', '8', '2', '3', '9', '7', '10', '5', '1', '6'], ['4', '8', '2', '3', '9', '7', '10', '5', '6'], ['4', '8', '2', '3', '10', '1', '5', '6'], ['4', '8', '2', '3', '10', '1', '5', '9', '6'], ['4', '8', '2', '3', '10', '1', '6'], ['4', '8', '2', '3', '10', '1', '7', '9', '5', '6'], ['4', '8', '2', '3', '10', '1', '7', '9', '6'], ['4', '8', '2', '3', '10', '5', '1', '6'], ['4', '8', '2', '3', '10', '5', '1', '7', '9', '6'], ['4', '8', '2', '3', '10', '5', '6'], ['4', '8', '2', '3', '10', '5', '9', '6'], ['4', '8', '2', '3', '10', '5', '9', '7', '1', '6'], ['4', '8', '2', '3', '10', '7', '1', '5', '6'], ['4', '8', '2', '3', '10', '7', '1', '5', '9', '6'], ['4', '8', '2', '3', '10', '7', '1', '6'], ['4', '8', '2', '3', '10', '7', '9', '5', '1', '6'], ['4', '8', '2', '3', '10', '7', '9', '5', '6'], ['4', '8', '2', '3', '10', '7', '9', '6'], ['4', '8', '2', '9', '3', '1', '5', '6'], ['4', '8', '2', '9', '3', '1', '6'], ['4', '8', '2', '9', '3', '1', '7', '10', '5', '6'], ['4', '8', '2', '9', '3', '1', '10', '5', '6'], ['4', '8', '2', '9', '3', '10', '1', '5', '6'], ['4', '8', '2', '9', '3', '10', '1', '6'], ['4', '8', '2', '9', '3', '10', '5', '1', '6'], ['4', '8', '2', '9', '3', '10', '5', '6'], ['4', '8', '2', '9', '3', '10', '7', '1', '5', '6'], ['4', '8', '2', '9', '3', '10', '7', '1', '6'], ['4', '8', '2', '9', '5', '1', '6'], ['4', '8', '2', '9', '5', '6'], ['4', '8', '2', '9', '5', '10', '1', '6'], ['4', '8', '2', '9', '5', '10', '3', '1', '6'], ['4', '8', '2', '9', '5', '10', '7', '1', '6'], ['4', '8', '2', '9', '6'], ['4', '8', '2', '9', '7', '1', '3', '10', '5', '6'], ['4', '8', '2', '9', '7', '1', '5', '6'], ['4', '8', '2', '9', '7', '1', '6'], ['4', '8', '2', '9', '7', '1', '10', '5', '6'], ['4', '8', '2', '9', '7', '10', '1', '5', '6'], ['4', '8', '2', '9', '7', '10', '1', '6'], ['4', '8', '2', '9', '7', '10', '3', '1', '5', '6'], ['4', '8', '2', '9', '7', '10', '3', '1', '6'], ['4', '8', '2', '9', '7', '10', '5', '1', '6'], ['4', '8', '2', '9', '7', '10', '5', '6'], ['4', '8', '2', '10', '1', '3', '9', '5', '6'], ['4', '8', '2', '10', '1', '3', '9', '6'], ['4', '8', '2', '10', '1', '5', '6'], ['4', '8', '2', '10', '1', '5', '9', '6'], ['4', '8', '2', '10', '1', '6'], ['4', '8', '2', '10', '1', '7', '9', '5', '6'], ['4', '8', '2', '10', '1', '7', '9', '6'], ['4', '8', '2', '10', '3', '1', '5', '6'], ['4', '8', '2', '10', '3', '1', '5', '9', '6'], ['4', '8', '2', '10', '3', '1', '6'], ['4', '8', '2', '10', '3', '1', '7', '9', '5', '6'], ['4', '8', '2', '10', '3', '1', '7', '9', '6'], ['4', '8', '2', '10', '3', '9', '5', '1', '6'], ['4', '8', '2', '10', '3', '9', '5', '6'], ['4', '8', '2', '10', '3', '9', '6'], ['4', '8', '2', '10', '3', '9', '7', '1', '5', '6'], ['4', '8', '2', '10', '3', '9', '7', '1', '6'], ['4', '8', '2', '10', '5', '1', '3', '9', '6'], ['4', '8', '2', '10', '5', '1', '6'], ['4', '8', '2', '10', '5', '1', '7', '9', '6'], ['4', '8', '2', '10', '5', '6'], ['4', '8', '2', '10', '5', '9', '3', '1', '6'], ['4', '8', '2', '10', '5', '9', '6'], ['4', '8', '2', '10', '5', '9', '7', '1', '6'], ['4', '8', '2', '10', '7', '1', '3', '9', '5', '6'], ['4', '8', '2', '10', '7', '1', '3', '9', '6'], ['4', '8', '2', '10', '7', '1', '5', '6'], ['4', '8', '2', '10', '7', '1', '5', '9', '6'], ['4', '8', '2', '10', '7', '1', '6'], ['4', '8', '2', '10', '7', '9', '3', '1', '5', '6'], ['4', '8', '2', '10', '7', '9', '3', '1', '6'], ['4', '8', '2', '10', '7', '9', '5', '1', '6'], ['4', '8', '2', '10', '7', '9', '5', '6'], ['4', '8', '2', '10', '7', '9', '6'], ['4', '8', '3', '1', '2', '9', '5', '6'], ['4', '8', '3', '1', '2', '9', '6'], ['4', '8', '3', '1', '2', '9', '7', '10', '5', '6'], ['4', '8', '3', '1', '2', '10', '5', '6'], ['4', '8', '3', '1', '2', '10', '5', '9', '6'], ['4', '8', '3', '1', '2', '10', '7', '9', '5', '6'], ['4', '8', '3', '1', '2', '10', '7', '9', '6'], ['4', '8', '3', '1', '5', '6'], ['4', '8', '3', '1', '5', '9', '6'], ['4', '8', '3', '1', '5', '10', '2', '9', '6'], ['4', '8', '3', '1', '5', '10', '7', '9', '6'], ['4', '8', '3', '1', '6'], ['4', '8', '3', '1', '7', '9', '2', '10', '5', '6'], ['4', '8', '3', '1', '7', '9', '5', '6'], ['4', '8', '3', '1', '7', '9', '6'], ['4', '8', '3', '1', '7', '10', '2', '9', '5', '6'], ['4', '8', '3', '1', '7', '10', '2', '9', '6'], ['4', '8', '3', '1', '7', '10', '5', '6'], ['4', '8', '3', '1', '7', '10', '5', '9', '6'], ['4', '8', '3', '1', '10', '2', '9', '5', '6'], ['4', '8', '3', '1', '10', '2', '9', '6'], ['4', '8', '3', '1', '10', '5', '6'], ['4', '8', '3', '1', '10', '5', '9', '6'], ['4', '8', '3', '1', '10', '7', '9', '5', '6'], ['4', '8', '3', '1', '10', '7', '9', '6'], ['4', '8', '3', '2', '1', '5', '6'], ['4', '8', '3', '2', '1', '5', '9', '6'], ['4', '8', '3', '2', '1', '5', '10', '7', '9', '6'], ['4', '8', '3', '2', '1', '6'], ['4', '8', '3', '2', '1', '7', '9', '5', '6'], ['4', '8', '3', '2', '1', '7', '9', '6'], ['4', '8', '3', '2', '1', '7', '10', '5', '6'], ['4', '8', '3', '2', '1', '7', '10', '5', '9', '6'], ['4', '8', '3', '2', '1', '10', '5', '6'], ['4', '8', '3', '2', '1', '10', '5', '9', '6'], ['4', '8', '3', '2', '1', '10', '7', '9', '5', '6'], ['4', '8', '3', '2', '1', '10', '7', '9', '6'], ['4', '8', '3', '2', '9', '5', '1', '6'], ['4', '8', '3', '2', '9', '5', '6'], ['4', '8', '3', '2', '9', '5', '10', '1', '6'], ['4', '8', '3', '2', '9', '5', '10', '7', '1', '6'], ['4', '8', '3', '2', '9', '6'], ['4', '8', '3', '2', '9', '7', '1', '5', '6'], ['4', '8', '3', '2', '9', '7', '1', '6'], ['4', '8', '3', '2', '9', '7', '1', '10', '5', '6'], ['4', '8', '3', '2', '9', '7', '10', '1', '5', '6'], ['4', '8', '3', '2', '9', '7', '10', '1', '6'], ['4', '8', '3', '2', '9', '7', '10', '5', '1', '6'], ['4', '8', '3', '2', '9', '7', '10', '5', '6'], ['4', '8', '3', '2', '10', '1', '5', '6'], ['4', '8', '3', '2', '10', '1', '5', '9', '6'], ['4', '8', '3', '2', '10', '1', '6'], ['4', '8', '3', '2', '10', '1', '7', '9', '5', '6'], ['4', '8', '3', '2', '10', '1', '7', '9', '6'], ['4', '8', '3', '2', '10', '5', '1', '6'], ['4', '8', '3', '2', '10', '5', '1', '7', '9', '6'], ['4', '8', '3', '2', '10', '5', '6'], ['4', '8', '3', '2', '10', '5', '9', '6'], ['4', '8', '3', '2', '10', '5', '9', '7', '1', '6'], ['4', '8', '3', '2', '10', '7', '1', '5', '6'], ['4', '8', '3', '2', '10', '7', '1', '5', '9', '6'], ['4', '8', '3', '2', '10', '7', '1', '6'], ['4', '8', '3', '2', '10', '7', '9', '5', '1', '6'], ['4', '8', '3', '2', '10', '7', '9', '5', '6'], ['4', '8', '3', '2', '10', '7', '9', '6'], ['4', '8', '3', '9', '2', '1', '5', '6'], ['4', '8', '3', '9', '2', '1', '6'], ['4', '8', '3', '9', '2', '1', '7', '10', '5', '6'], ['4', '8', '3', '9', '2', '1', '10', '5', '6'], ['4', '8', '3', '9', '2', '10', '1', '5', '6'], ['4', '8', '3', '9', '2', '10', '1', '6'], ['4', '8', '3', '9', '2', '10', '5', '1', '6'], ['4', '8', '3', '9', '2', '10', '5', '6'], ['4', '8', '3', '9', '2', '10', '7', '1', '5', '6'], ['4', '8', '3', '9', '2', '10', '7', '1', '6'], ['4', '8', '3', '9', '5', '1', '6'], ['4', '8', '3', '9', '5', '6'], ['4', '8', '3', '9', '5', '10', '1', '6'], ['4', '8', '3', '9', '5', '10', '2', '1', '6'], ['4', '8', '3', '9', '5', '10', '7', '1', '6'], ['4', '8', '3', '9', '6'], ['4', '8', '3', '9', '7', '1', '2', '10', '5', '6'], ['4', '8', '3', '9', '7', '1', '5', '6'], ['4', '8', '3', '9', '7', '1', '6'], ['4', '8', '3', '9', '7', '1', '10', '5', '6'], ['4', '8', '3', '9', '7', '10', '1', '5', '6'], ['4', '8', '3', '9', '7', '10', '1', '6'], ['4', '8', '3', '9', '7', '10', '2', '1', '5', '6'], ['4', '8', '3', '9', '7', '10', '2', '1', '6'], ['4', '8', '3', '9', '7', '10', '5', '1', '6'], ['4', '8', '3', '9', '7', '10', '5', '6'], ['4', '8', '3', '10', '1', '2', '9', '5', '6'], ['4', '8', '3', '10', '1', '2', '9', '6'], ['4', '8', '3', '10', '1', '5', '6'], ['4', '8', '3', '10', '1', '5', '9', '6'], ['4', '8', '3', '10', '1', '6'], ['4', '8', '3', '10', '1', '7', '9', '5', '6'], ['4', '8', '3', '10', '1', '7', '9', '6'], ['4', '8', '3', '10', '2', '1', '5', '6'], ['4', '8', '3', '10', '2', '1', '5', '9', '6'], ['4', '8', '3', '10', '2', '1', '6'], ['4', '8', '3', '10', '2', '1', '7', '9', '5', '6'], ['4', '8', '3', '10', '2', '1', '7', '9', '6'], ['4', '8', '3', '10', '2', '9', '5', '1', '6'], ['4', '8', '3', '10', '2', '9', '5', '6'], ['4', '8', '3', '10', '2', '9', '6'], ['4', '8', '3', '10', '2', '9', '7', '1', '5', '6'], ['4', '8', '3', '10', '2', '9', '7', '1', '6'], ['4', '8', '3', '10', '5', '1', '2', '9', '6'], ['4', '8', '3', '10', '5', '1', '6'], ['4', '8', '3', '10', '5', '1', '7', '9', '6'], ['4', '8', '3', '10', '5', '6'], ['4', '8', '3', '10', '5', '9', '2', '1', '6'], ['4', '8', '3', '10', '5', '9', '6'], ['4', '8', '3', '10', '5', '9', '7', '1', '6'], ['4', '8', '3', '10', '7', '1', '2', '9', '5', '6'], ['4', '8', '3', '10', '7', '1', '2', '9', '6'], ['4', '8', '3', '10', '7', '1', '5', '6'], ['4', '8', '3', '10', '7', '1', '5', '9', '6'], ['4', '8', '3', '10', '7', '1', '6'], ['4', '8', '3', '10', '7', '9', '2', '1', '5', '6'], ['4', '8', '3', '10', '7', '9', '2', '1', '6'], ['4', '8', '3', '10', '7', '9', '5', '1', '6'], ['4', '8', '3', '10', '7', '9', '5', '6'], ['4', '8', '3', '10', '7', '9', '6'], ['4', '8', '6'], ['4', '8', '10', '1', '2', '3', '9', '5', '6'], ['4', '8', '10', '1', '2', '3', '9', '6'], ['4', '8', '10', '1', '2', '9', '5', '6'], ['4', '8', '10', '1', '2', '9', '6'], ['4', '8', '10', '1', '3', '2', '9', '5', '6'], ['4', '8', '10', '1', '3', '2', '9', '6'], ['4', '8', '10', '1', '3', '9', '5', '6'], ['4', '8', '10', '1', '3', '9', '6'], ['4', '8', '10', '1', '5', '6'], ['4', '8', '10', '1', '5', '9', '6'], ['4', '8', '10', '1', '6'], ['4', '8', '10', '1', '7', '9', '5', '6'], ['4', '8', '10', '1', '7', '9', '6'], ['4', '8', '10', '2', '1', '3', '9', '5', '6'], ['4', '8', '10', '2', '1', '3', '9', '6'], ['4', '8', '10', '2', '1', '5', '6'], ['4', '8', '10', '2', '1', '5', '9', '6'], ['4', '8', '10', '2', '1', '6'], ['4', '8', '10', '2', '1', '7', '9', '5', '6'], ['4', '8', '10', '2', '1', '7', '9', '6'], ['4', '8', '10', '2', '3', '1', '5', '6'], ['4', '8', '10', '2', '3', '1', '5', '9', '6'], ['4', '8', '10', '2', '3', '1', '6'], ['4', '8', '10', '2', '3', '1', '7', '9', '5', '6'], ['4', '8', '10', '2', '3', '1', '7', '9', '6'], ['4', '8', '10', '2', '3', '9', '5', '1', '6'], ['4', '8', '10', '2', '3', '9', '5', '6'], ['4', '8', '10', '2', '3', '9', '6'], ['4', '8', '10', '2', '3', '9', '7', '1', '5', '6'], ['4', '8', '10', '2', '3', '9', '7', '1', '6'], ['4', '8', '10', '2', '9', '3', '1', '5', '6'], ['4', '8', '10', '2', '9', '3', '1', '6'], ['4', '8', '10', '2', '9', '5', '1', '6'], ['4', '8', '10', '2', '9', '5', '6'], ['4', '8', '10', '2', '9', '6'], ['4', '8', '10', '2', '9', '7', '1', '5', '6'], ['4', '8', '10', '2', '9', '7', '1', '6'], ['4', '8', '10', '3', '1', '2', '9', '5', '6'], ['4', '8', '10', '3', '1', '2', '9', '6'], ['4', '8', '10', '3', '1', '5', '6'], ['4', '8', '10', '3', '1', '5', '9', '6'], ['4', '8', '10', '3', '1', '6'], ['4', '8', '10', '3', '1', '7', '9', '5', '6'], ['4', '8', '10', '3', '1', '7', '9', '6'], ['4', '8', '10', '3', '2', '1', '5', '6'], ['4', '8', '10', '3', '2', '1', '5', '9', '6'], ['4', '8', '10', '3', '2', '1', '6'], ['4', '8', '10', '3', '2', '1', '7', '9', '5', '6'], ['4', '8', '10', '3', '2', '1', '7', '9', '6'], ['4', '8', '10', '3', '2', '9', '5', '1', '6'], ['4', '8', '10', '3', '2', '9', '5', '6'], ['4', '8', '10', '3', '2', '9', '6'], ['4', '8', '10', '3', '2', '9', '7', '1', '5', '6'], ['4', '8', '10', '3', '2', '9', '7', '1', '6'], ['4', '8', '10', '3', '9', '2', '1', '5', '6'], ['4', '8', '10', '3', '9', '2', '1', '6'], ['4', '8', '10', '3', '9', '5', '1', '6'], ['4', '8', '10', '3', '9', '5', '6'], ['4', '8', '10', '3', '9', '6'], ['4', '8', '10', '3', '9', '7', '1', '5', '6'], ['4', '8', '10', '3', '9', '7', '1', '6'], ['4', '8', '10', '5', '1', '2', '3', '9', '6'], ['4', '8', '10', '5', '1', '2', '9', '6'], ['4', '8', '10', '5', '1', '3', '2', '9', '6'], ['4', '8', '10', '5', '1', '3', '9', '6'], ['4', '8', '10', '5', '1', '6'], ['4', '8', '10', '5', '1', '7', '9', '6'], ['4', '8', '10', '5', '6'], ['4', '8', '10', '5', '9', '2', '1', '6'], ['4', '8', '10', '5', '9', '2', '3', '1', '6'], ['4', '8', '10', '5', '9', '3', '1', '6'], ['4', '8', '10', '5', '9', '3', '2', '1', '6'], ['4', '8', '10', '5', '9', '6'], ['4', '8', '10', '5', '9', '7', '1', '6'], ['4', '8', '10', '7', '1', '2', '3', '9', '5', '6'], ['4', '8', '10', '7', '1', '2', '3', '9', '6'], ['4', '8', '10', '7', '1', '2', '9', '5', '6'], ['4', '8', '10', '7', '1', '2', '9', '6'], ['4', '8', '10', '7', '1', '3', '2', '9', '5', '6'], ['4', '8', '10', '7', '1', '3', '2', '9', '6'], ['4', '8', '10', '7', '1', '3', '9', '5', '6'], ['4', '8', '10', '7', '1', '3', '9', '6'], ['4', '8', '10', '7', '1', '5', '6'], ['4', '8', '10', '7', '1', '5', '9', '6'], ['4', '8', '10', '7', '1', '6'], ['4', '8', '10', '7', '9', '2', '1', '5', '6'], ['4', '8', '10', '7', '9', '2', '1', '6'], ['4', '8', '10', '7', '9', '2', '3', '1', '5', '6'], ['4', '8', '10', '7', '9', '2', '3', '1', '6'], ['4', '8', '10', '7', '9', '3', '1', '5', '6'], ['4', '8', '10', '7', '9', '3', '1', '6'], ['4', '8', '10', '7', '9', '3', '2', '1', '5', '6'], ['4', '8', '10', '7', '9', '3', '2', '1', '6'], ['4', '8', '10', '7', '9', '5', '1', '6'], ['4', '8', '10', '7', '9', '5', '6'], ['4', '8', '10', '7', '9', '6'], ['4', '10', '1', '2', '3', '8', '6'], ['4', '10', '1', '2', '3', '9', '5', '6'], ['4', '10', '1', '2', '3', '9', '6'], ['4', '10', '1', '2', '8', '3', '9', '5', '6'], ['4', '10', '1', '2', '8', '3', '9', '6'], ['4', '10', '1', '2', '8', '6'], ['4', '10', '1', '2', '9', '3', '8', '6'], ['4', '10', '1', '2', '9', '5', '6'], ['4', '10', '1', '2', '9', '6'], ['4', '10', '1', '3', '2', '8', '6'], ['4', '10', '1', '3', '2', '9', '5', '6'], ['4', '10', '1', '3', '2', '9', '6'], ['4', '10', '1', '3', '8', '2', '9', '5', '6'], ['4', '10', '1', '3', '8', '2', '9', '6'], ['4', '10', '1', '3', '8', '6'], ['4', '10', '1', '3', '9', '2', '8', '6'], ['4', '10', '1', '3', '9', '5', '6'], ['4', '10', '1', '3', '9', '6'], ['4', '10', '1', '5', '6'], ['4', '10', '1', '5', '9', '2', '3', '8', '6'], ['4', '10', '1', '5', '9', '2', '8', '6'], ['4', '10', '1', '5', '9', '3', '2', '8', '6'], ['4', '10', '1', '5', '9', '3', '8', '6'], ['4', '10', '1', '5', '9', '6'], ['4', '10', '1', '6'], ['4', '10', '1', '7', '9', '2', '3', '8', '6'], ['4', '10', '1', '7', '9', '2', '8', '6'], ['4', '10', '1', '7', '9', '3', '2', '8', '6'], ['4', '10', '1', '7', '9', '3', '8', '6'], ['4', '10', '1', '7', '9', '5', '6'], ['4', '10', '1', '7', '9', '6'], ['4', '10', '2', '1', '3', '8', '6'], ['4', '10', '2', '1', '3', '9', '5', '6'], ['4', '10', '2', '1', '3', '9', '6'], ['4', '10', '2', '1', '5', '6'], ['4', '10', '2', '1', '5', '9', '3', '8', '6'], ['4', '10', '2', '1', '5', '9', '6'], ['4', '10', '2', '1', '6'], ['4', '10', '2', '1', '7', '9', '3', '8', '6'], ['4', '10', '2', '1', '7', '9', '5', '6'], ['4', '10', '2', '1', '7', '9', '6'], ['4', '10', '2', '3', '1', '5', '6'], ['4', '10', '2', '3', '1', '5', '9', '6'], ['4', '10', '2', '3', '1', '6'], ['4', '10', '2', '3', '1', '7', '9', '5', '6'], ['4', '10', '2', '3', '1', '7', '9', '6'], ['4', '10', '2', '3', '8', '6'], ['4', '10', '2', '3', '9', '5', '1', '6'], ['4', '10', '2', '3', '9', '5', '6'], ['4', '10', '2', '3', '9', '6'], ['4', '10', '2', '3', '9', '7', '1', '5', '6'], ['4', '10', '2', '3', '9', '7', '1', '6'], ['4', '10', '2', '8', '3', '1', '5', '6'], ['4', '10', '2', '8', '3', '1', '5', '9', '6'], ['4', '10', '2', '8', '3', '1', '6'], ['4', '10', '2', '8', '3', '1', '7', '9', '5', '6'], ['4', '10', '2', '8', '3', '1', '7', '9', '6'], ['4', '10', '2', '8', '3', '9', '5', '1', '6'], ['4', '10', '2', '8', '3', '9', '5', '6'], ['4', '10', '2', '8', '3', '9', '6'], ['4', '10', '2', '8', '3', '9', '7', '1', '5', '6'], ['4', '10', '2', '8', '3', '9', '7', '1', '6'], ['4', '10', '2', '8', '6'], ['4', '10', '2', '9', '3', '1', '5', '6'], ['4', '10', '2', '9', '3', '1', '6'], ['4', '10', '2', '9', '3', '8', '6'], ['4', '10', '2', '9', '5', '1', '3', '8', '6'], ['4', '10', '2', '9', '5', '1', '6'], ['4', '10', '2', '9', '5', '6'], ['4', '10', '2', '9', '6'], ['4', '10', '2', '9', '7', '1', '3', '8', '6'], ['4', '10', '2', '9', '7', '1', '5', '6'], ['4', '10', '2', '9', '7', '1', '6'], ['4', '10', '3', '1', '2', '8', '6'], ['4', '10', '3', '1', '2', '9', '5', '6'], ['4', '10', '3', '1', '2', '9', '6'], ['4', '10', '3', '1', '5', '6'], ['4', '10', '3', '1', '5', '9', '2', '8', '6'], ['4', '10', '3', '1', '5', '9', '6'], ['4', '10', '3', '1', '6'], ['4', '10', '3', '1', '7', '9', '2', '8', '6'], ['4', '10', '3', '1', '7', '9', '5', '6'], ['4', '10', '3', '1', '7', '9', '6'], ['4', '10', '3', '2', '1', '5', '6'], ['4', '10', '3', '2', '1', '5', '9', '6'], ['4', '10', '3', '2', '1', '6'], ['4', '10', '3', '2', '1', '7', '9', '5', '6'], ['4', '10', '3', '2', '1', '7', '9', '6'], ['4', '10', '3', '2', '8', '6'], ['4', '10', '3', '2', '9', '5', '1', '6'], ['4', '10', '3', '2', '9', '5', '6'], ['4', '10', '3', '2', '9', '6'], ['4', '10', '3', '2', '9', '7', '1', '5', '6'], ['4', '10', '3', '2', '9', '7', '1', '6'], ['4', '10', '3', '8', '2', '1', '5', '6'], ['4', '10', '3', '8', '2', '1', '5', '9', '6'], ['4', '10', '3', '8', '2', '1', '6'], ['4', '10', '3', '8', '2', '1', '7', '9', '5', '6'], ['4', '10', '3', '8', '2', '1', '7', '9', '6'], ['4', '10', '3', '8', '2', '9', '5', '1', '6'], ['4', '10', '3', '8', '2', '9', '5', '6'], ['4', '10', '3', '8', '2', '9', '6'], ['4', '10', '3', '8', '2', '9', '7', '1', '5', '6'], ['4', '10', '3', '8', '2', '9', '7', '1', '6'], ['4', '10', '3', '8', '6'], ['4', '10', '3', '9', '2', '1', '5', '6'], ['4', '10', '3', '9', '2', '1', '6'], ['4', '10', '3', '9', '2', '8', '6'], ['4', '10', '3', '9', '5', '1', '2', '8', '6'], ['4', '10', '3', '9', '5', '1', '6'], ['4', '10', '3', '9', '5', '6'], ['4', '10', '3', '9', '6'], ['4', '10', '3', '9', '7', '1', '2', '8', '6'], ['4', '10', '3', '9', '7', '1', '5', '6'], ['4', '10', '3', '9', '7', '1', '6'], ['4', '10', '5', '1', '2', '3', '8', '6'], ['4', '10', '5', '1', '2', '3', '9', '6'], ['4', '10', '5', '1', '2', '8', '3', '9', '6'], ['4', '10', '5', '1', '2', '8', '6'], ['4', '10', '5', '1', '2', '9', '3', '8', '6'], ['4', '10', '5', '1', '2', '9', '6'], ['4', '10', '5', '1', '3', '2', '8', '6'], ['4', '10', '5', '1', '3', '2', '9', '6'], ['4', '10', '5', '1', '3', '8', '2', '9', '6'], ['4', '10', '5', '1', '3', '8', '6'], ['4', '10', '5', '1', '3', '9', '2', '8', '6'], ['4', '10', '5', '1', '3', '9', '6'], ['4', '10', '5', '1', '6'], ['4', '10', '5', '1', '7', '9', '2', '3', '8', '6'], ['4', '10', '5', '1', '7', '9', '2', '8', '6'], ['4', '10', '5', '1', '7', '9', '3', '2', '8', '6'], ['4', '10', '5', '1', '7', '9', '3', '8', '6'], ['4', '10', '5', '1', '7', '9', '6'], ['4', '10', '5', '6'], ['4', '10', '5', '9', '2', '1', '3', '8', '6'], ['4', '10', '5', '9', '2', '1', '6'], ['4', '10', '5', '9', '2', '3', '1', '6'], ['4', '10', '5', '9', '2', '3', '8', '6'], ['4', '10', '5', '9', '2', '8', '3', '1', '6'], ['4', '10', '5', '9', '2', '8', '6'], ['4', '10', '5', '9', '3', '1', '2', '8', '6'], ['4', '10', '5', '9', '3', '1', '6'], ['4', '10', '5', '9', '3', '2', '1', '6'], ['4', '10', '5', '9', '3', '2', '8', '6'], ['4', '10', '5', '9', '3', '8', '2', '1', '6'], ['4', '10', '5', '9', '3', '8', '6'], ['4', '10', '5', '9', '6'], ['4', '10', '5', '9', '7', '1', '2', '3', '8', '6'], ['4', '10', '5', '9', '7', '1', '2', '8', '6'], ['4', '10', '5', '9', '7', '1', '3', '2', '8', '6'], ['4', '10', '5', '9', '7', '1', '3', '8', '6'], ['4', '10', '5', '9', '7', '1', '6'], ['4', '10', '7', '1', '2', '3', '8', '6'], ['4', '10', '7', '1', '2', '3', '9', '5', '6'], ['4', '10', '7', '1', '2', '3', '9', '6'], ['4', '10', '7', '1', '2', '8', '3', '9', '5', '6'], ['4', '10', '7', '1', '2', '8', '3', '9', '6'], ['4', '10', '7', '1', '2', '8', '6'], ['4', '10', '7', '1', '2', '9', '3', '8', '6'], ['4', '10', '7', '1', '2', '9', '5', '6'], ['4', '10', '7', '1', '2', '9', '6'], ['4', '10', '7', '1', '3', '2', '8', '6'], ['4', '10', '7', '1', '3', '2', '9', '5', '6'], ['4', '10', '7', '1', '3', '2', '9', '6'], ['4', '10', '7', '1', '3', '8', '2', '9', '5', '6'], ['4', '10', '7', '1', '3', '8', '2', '9', '6'], ['4', '10', '7', '1', '3', '8', '6'], ['4', '10', '7', '1', '3', '9', '2', '8', '6'], ['4', '10', '7', '1', '3', '9', '5', '6'], ['4', '10', '7', '1', '3', '9', '6'], ['4', '10', '7', '1', '5', '6'], ['4', '10', '7', '1', '5', '9', '2', '3', '8', '6'], ['4', '10', '7', '1', '5', '9', '2', '8', '6'], ['4', '10', '7', '1', '5', '9', '3', '2', '8', '6'], ['4', '10', '7', '1', '5', '9', '3', '8', '6'], ['4', '10', '7', '1', '5', '9', '6'], ['4', '10', '7', '1', '6'], ['4', '10', '7', '9', '2', '1', '3', '8', '6'], ['4', '10', '7', '9', '2', '1', '5', '6'], ['4', '10', '7', '9', '2', '1', '6'], ['4', '10', '7', '9', '2', '3', '1', '5', '6'], ['4', '10', '7', '9', '2', '3', '1', '6'], ['4', '10', '7', '9', '2', '3', '8', '6'], ['4', '10', '7', '9', '2', '8', '3', '1', '5', '6'], ['4', '10', '7', '9', '2', '8', '3', '1', '6'], ['4', '10', '7', '9', '2', '8', '6'], ['4', '10', '7', '9', '3', '1', '2', '8', '6'], ['4', '10', '7', '9', '3', '1', '5', '6'], ['4', '10', '7', '9', '3', '1', '6'], ['4', '10', '7', '9', '3', '2', '1', '5', '6'], ['4', '10', '7', '9', '3', '2', '1', '6'], ['4', '10', '7', '9', '3', '2', '8', '6'], ['4', '10', '7', '9', '3', '8', '2', '1', '5', '6'], ['4', '10', '7', '9', '3', '8', '2', '1', '6'], ['4', '10', '7', '9', '3', '8', '6'], ['4', '10', '7', '9', '5', '1', '2', '3', '8', '6'], ['4', '10', '7', '9', '5', '1', '2', '8', '6'], ['4', '10', '7', '9', '5', '1', '3', '2', '8', '6'], ['4', '10', '7', '9', '5', '1', '3', '8', '6'], ['4', '10', '7', '9', '5', '1', '6'], ['4', '10', '7', '9', '5', '6'], ['4', '10', '7', '9', '6'], ['4', '10', '8', '2', '1', '3', '9', '5', '6'], ['4', '10', '8', '2', '1', '3', '9', '6'], ['4', '10', '8', '2', '1', '5', '6'], ['4', '10', '8', '2', '1', '5', '9', '6'], ['4', '10', '8', '2', '1', '6'], ['4', '10', '8', '2', '1', '7', '9', '5', '6'], ['4', '10', '8', '2', '1', '7', '9', '6'], ['4', '10', '8', '2', '3', '1', '5', '6'], ['4', '10', '8', '2', '3', '1', '5', '9', '6'], ['4', '10', '8', '2', '3', '1', '6'], ['4', '10', '8', '2', '3', '1', '7', '9', '5', '6'], ['4', '10', '8', '2', '3', '1', '7', '9', '6'], ['4', '10', '8', '2', '3', '9', '5', '1', '6'], ['4', '10', '8', '2', '3', '9', '5', '6'], ['4', '10', '8', '2', '3', '9', '6'], ['4', '10', '8', '2', '3', '9', '7', '1', '5', '6'], ['4', '10', '8', '2', '3', '9', '7', '1', '6'], ['4', '10', '8', '2', '9', '3', '1', '5', '6'], ['4', '10', '8', '2', '9', '3', '1', '6'], ['4', '10', '8', '2', '9', '5', '1', '6'], ['4', '10', '8', '2', '9', '5', '6'], ['4', '10', '8', '2', '9', '6'], ['4', '10', '8', '2', '9', '7', '1', '5', '6'], ['4', '10', '8', '2', '9', '7', '1', '6'], ['4', '10', '8', '3', '1', '2', '9', '5', '6'], ['4', '10', '8', '3', '1', '2', '9', '6'], ['4', '10', '8', '3', '1', '5', '6'], ['4', '10', '8', '3', '1', '5', '9', '6'], ['4', '10', '8', '3', '1', '6'], ['4', '10', '8', '3', '1', '7', '9', '5', '6'], ['4', '10', '8', '3', '1', '7', '9', '6'], ['4', '10', '8', '3', '2', '1', '5', '6'], ['4', '10', '8', '3', '2', '1', '5', '9', '6'], ['4', '10', '8', '3', '2', '1', '6'], ['4', '10', '8', '3', '2', '1', '7', '9', '5', '6'], ['4', '10', '8', '3', '2', '1', '7', '9', '6'], ['4', '10', '8', '3', '2', '9', '5', '1', '6'], ['4', '10', '8', '3', '2', '9', '5', '6'], ['4', '10', '8', '3', '2', '9', '6'], ['4', '10', '8', '3', '2', '9', '7', '1', '5', '6'], ['4', '10', '8', '3', '2', '9', '7', '1', '6'], ['4', '10', '8', '3', '9', '2', '1', '5', '6'], ['4', '10', '8', '3', '9', '2', '1', '6'], ['4', '10', '8', '3', '9', '5', '1', '6'], ['4', '10', '8', '3', '9', '5', '6'], ['4', '10', '8', '3', '9', '6'], ['4', '10', '8', '3', '9', '7', '1', '5', '6'], ['4', '10', '8', '3', '9', '7', '1', '6'], ['4', '10', '8', '6']]\n"
          ]
        }
      ],
      "source": [
        "print(\"All paths from node 4 to 6 are:\");\n",
        "path=nx.all_simple_paths(G,source='4',target='6')\n",
        "print(list(path))"
      ]
    },
    {
      "cell_type": "markdown",
      "id": "7269744d",
      "metadata": {},
      "source": [
        "# 7) Find the longest shortest path between any two nodes"
      ]
    },
    {
      "cell_type": "code",
      "execution_count": null,
      "id": "a2eebf56",
      "metadata": {
        "colab": {
          "base_uri": "https://localhost:8080/"
        },
        "id": "a2eebf56",
        "outputId": "8849baa7-b107-4dc7-bb8c-379b8b734f5d"
      },
      "outputs": [
        {
          "name": "stdout",
          "output_type": "stream",
          "text": [
            "Longest Shortest path between any two nodes:\n",
            "['1']\n",
            "['1', '2']\n",
            "['1', '3']\n",
            "['1', '2', '4']\n",
            "(3, ['1', '2', '4'])\n"
          ]
        }
      ],
      "source": [
        "def max_length_list(input_list):\n",
        "    max_length = max(len(x) for x in input_list )\n",
        "    for i in input_list:\n",
        "      print(i)\n",
        "      if len(i) == max_length:\n",
        "        return(max_length,i)\n",
        "ShortestPaths=[]    \n",
        "print(\"Longest Shortest path between any two nodes:\");\n",
        "for i in range(num_of_vertices) :\n",
        "  for j in range(num_of_vertices):\n",
        "    ShortestPaths.append(nx.shortest_path(G,source=vertices_list[i],target=vertices_list[j]))\n",
        "print(max_length_list(ShortestPaths))"
      ]
    },
    {
      "cell_type": "markdown",
      "id": "4311f683",
      "metadata": {},
      "source": [
        "# 8) Find the shortest path between any two nodes"
      ]
    },
    {
      "cell_type": "code",
      "execution_count": null,
      "id": "2d29d5bc",
      "metadata": {
        "colab": {
          "base_uri": "https://localhost:8080/"
        },
        "id": "2d29d5bc",
        "outputId": "71856e5e-0f5a-4904-a164-6fa16fae6466"
      },
      "outputs": [
        {
          "name": "stdout",
          "output_type": "stream",
          "text": [
            "Shortest path between any two nodes:\n",
            "['1']\n",
            "['1', '2']\n",
            "['1', '3']\n",
            "['1', '2', '4']\n",
            "['1', '5']\n",
            "['1', '6']\n",
            "['1', '7']\n",
            "['1', '2', '8']\n",
            "['1', '2', '9']\n",
            "['1', '10']\n",
            "['2', '1']\n",
            "['2']\n",
            "['2', '3']\n",
            "['2', '4']\n",
            "['2', '1', '5']\n",
            "['2', '1', '6']\n",
            "['2', '4', '7']\n",
            "['2', '8']\n",
            "['2', '9']\n",
            "['2', '10']\n",
            "['3', '1']\n",
            "['3', '2']\n",
            "['3']\n",
            "['3', '2', '4']\n",
            "['3', '1', '5']\n",
            "['3', '1', '6']\n",
            "['3', '1', '7']\n",
            "['3', '8']\n",
            "['3', '9']\n",
            "['3', '10']\n",
            "['4', '2', '1']\n",
            "['4', '2']\n",
            "['4', '2', '3']\n",
            "['4']\n",
            "['4', '10', '5']\n",
            "['4', '8', '6']\n",
            "['4', '7']\n",
            "['4', '8']\n",
            "['4', '2', '9']\n",
            "['4', '10']\n",
            "['5', '1']\n",
            "['5', '1', '2']\n",
            "['5', '1', '3']\n",
            "['5', '10', '4']\n",
            "['5']\n",
            "['5', '6']\n",
            "['5', '1', '7']\n",
            "['5', '6', '8']\n",
            "['5', '9']\n",
            "['5', '10']\n",
            "['6', '1']\n",
            "['6', '1', '2']\n",
            "['6', '1', '3']\n",
            "['6', '8', '4']\n",
            "['6', '5']\n",
            "['6']\n",
            "['6', '1', '7']\n",
            "['6', '8']\n",
            "['6', '9']\n",
            "['6', '1', '10']\n",
            "['7', '1']\n",
            "['7', '1', '2']\n",
            "['7', '1', '3']\n",
            "['7', '4']\n",
            "['7', '1', '5']\n",
            "['7', '1', '6']\n",
            "['7']\n",
            "['7', '4', '8']\n",
            "['7', '9']\n",
            "['7', '10']\n",
            "['8', '2', '1']\n",
            "['8', '2']\n",
            "['8', '3']\n",
            "['8', '4']\n",
            "['8', '6', '5']\n",
            "['8', '6']\n",
            "['8', '4', '7']\n",
            "['8']\n",
            "['8', '2', '9']\n",
            "['8', '10']\n",
            "['9', '2', '1']\n",
            "['9', '2']\n",
            "['9', '3']\n",
            "['9', '2', '4']\n",
            "['9', '5']\n",
            "['9', '6']\n",
            "['9', '7']\n",
            "['9', '2', '8']\n",
            "['9']\n",
            "['9', '2', '10']\n",
            "['10', '1']\n",
            "['10', '2']\n",
            "['10', '3']\n",
            "['10', '4']\n",
            "['10', '5']\n",
            "['10', '1', '6']\n",
            "['10', '7']\n",
            "['10', '8']\n",
            "['10', '2', '9']\n",
            "['10']\n"
          ]
        }
      ],
      "source": [
        "print(\"Shortest path between any two nodes:\");\n",
        "for i in range(num_of_vertices) :\n",
        "    for j in range(num_of_vertices) :\n",
        "        print(nx.shortest_path(G,source=vertices_list[i],target=vertices_list[j]))"
      ]
    },
    {
      "cell_type": "markdown",
      "id": "d33c49ca",
      "metadata": {},
      "source": [
        "# 9) Find the betweeness centrality of Node 1"
      ]
    },
    {
      "cell_type": "code",
      "execution_count": null,
      "id": "0a24858f",
      "metadata": {
        "colab": {
          "base_uri": "https://localhost:8080/"
        },
        "id": "0a24858f",
        "outputId": "b027a9bf-c107-4363-9575-98e8972e2def"
      },
      "outputs": [
        {
          "name": "stdout",
          "output_type": "stream",
          "text": [
            "Betweeness centrality of node 1:\n"
          ]
        },
        {
          "data": {
            "text/plain": [
              "0.08564814814814814"
            ]
          },
          "execution_count": 23,
          "metadata": {},
          "output_type": "execute_result"
        }
      ],
      "source": [
        "print(\"Betweeness centrality of node 1:\");\n",
        "betweenness_centrality=nx.betweenness_centrality_source(G,normalized=True, weight=None, sources=None)\n",
        "betweenness_centrality['1']"
      ]
    },
    {
      "cell_type": "markdown",
      "id": "43ae3fbc",
      "metadata": {},
      "source": [
        "# 10) Find the person who has maximum number of connections"
      ]
    },
    {
      "cell_type": "code",
      "execution_count": null,
      "id": "701acab8",
      "metadata": {
        "colab": {
          "base_uri": "https://localhost:8080/"
        },
        "id": "701acab8",
        "outputId": "bd15aac5-4fb0-4bbf-d81e-1753a3c4bf65"
      },
      "outputs": [
        {
          "name": "stdout",
          "output_type": "stream",
          "text": [
            "Person who has maximum number of connections:\n"
          ]
        },
        {
          "data": {
            "text/plain": [
              "('10', 7)"
            ]
          },
          "execution_count": 24,
          "metadata": {},
          "output_type": "execute_result"
        }
      ],
      "source": [
        "print(\"Person who has maximum number of connections:\");\n",
        "max(dict(G.degree()).items(), key = lambda x : x[1])"
      ]
    },
    {
      "cell_type": "code",
      "execution_count": null,
      "id": "46e5d985",
      "metadata": {
        "id": "46e5d985"
      },
      "outputs": [],
      "source": []
    }
  ],
  "metadata": {
    "colab": {
      "collapsed_sections": [],
      "name": "Copy of 19BCE1327_WebMining_LAB8.ipynb",
      "provenance": []
    },
    "kernelspec": {
      "display_name": "Python 3",
      "language": "python",
      "name": "python3"
    },
    "language_info": {
      "codemirror_mode": {
        "name": "ipython",
        "version": 3
      },
      "file_extension": ".py",
      "mimetype": "text/x-python",
      "name": "python",
      "nbconvert_exporter": "python",
      "pygments_lexer": "ipython3",
      "version": "3.8.8"
    }
  },
  "nbformat": 4,
  "nbformat_minor": 5
}
