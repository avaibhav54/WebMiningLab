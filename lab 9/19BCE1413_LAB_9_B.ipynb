{
  "cells": [
    {
      "cell_type": "code",
      "execution_count": null,
      "metadata": {
        "id": "g87nw8LmcxJ1"
      },
      "outputs": [],
      "source": [
        "import networkx as nx\n",
        "import matplotlib as plt\n",
        "G=nx.DiGraph()"
      ]
    },
    {
      "cell_type": "code",
      "execution_count": null,
      "metadata": {
        "colab": {
          "base_uri": "https://localhost:8080/"
        },
        "id": "eIKY1cqBphZq",
        "outputId": "6cde7b4e-5522-4f57-9395-647d6c7e4fd7"
      },
      "outputs": [
        {
          "name": "stdout",
          "output_type": "stream",
          "text": [
            "The page ranks are as follows=\n",
            "\n"
          ]
        },
        {
          "data": {
            "text/plain": [
              "{'A': 0.08941499371129827,\n",
              " 'B': 0.28120563198030324,\n",
              " 'C': 0.10983011816321764,\n",
              " 'D': 0.08864644387947536,\n",
              " 'E': 0.1606990303925196,\n",
              " 'F': 0.10229957241772619,\n",
              " 'G': 0.07374454250177016,\n",
              " 'H': 0.09415966695368952}"
            ]
          },
          "execution_count": 5,
          "metadata": {},
          "output_type": "execute_result"
        }
      ],
      "source": [
        "pagerank=nx.pagerank(G,alpha=0.85)\n",
        "print(\"The page ranks are as follows=\\n\")\n",
        "pagerank"
      ]
    },
    {
      "cell_type": "code",
      "execution_count": null,
      "metadata": {
        "id": "lZD-VVItquvH"
      },
      "outputs": [],
      "source": [
        "adjacency_matrix = [\n",
        "    [0,1,0,0,0,1,0,0],\n",
        "    [0,0,0,0,0,0,0,0],\n",
        "    [0,1,0,0,0,0,0,0],\n",
        "    [1,0,0,0,1,0,1,0],\n",
        "    [0,1,1,0,0,0,0,1],\n",
        "    [0,0,0,0,1,0,0,0],\n",
        "    [1,1,1,0,0,1,0,0],\n",
        "    [0,1,0,1,0,0,0,0]\n",
        "]"
      ]
    },
    {
      "cell_type": "code",
      "execution_count": null,
      "metadata": {
        "colab": {
          "base_uri": "https://localhost:8080/"
        },
        "id": "63qc5-D8qC3t",
        "outputId": "867daf97-e9b6-416f-ec38-6d876289e6c7"
      },
      "outputs": [
        {
          "data": {
            "text/plain": [
              "[2, 0, 1, 3, 3, 1, 4, 2]"
            ]
          },
          "execution_count": 7,
          "metadata": {},
          "output_type": "execute_result"
        }
      ],
      "source": [
        "num_vertices=8\n",
        "vertices_list=['A','B','C','D','E','F','G','H',]\n",
        "out_bound_vertices_count = [0 for  _ in range(num_vertices)]\n",
        "for i in range(num_vertices) :\n",
        "  out_bound_vertices_count[i] = sum(adjacency_matrix[i])\n",
        "\n",
        "out_bound_vertices_count"
      ]
    },
    {
      "cell_type": "code",
      "execution_count": null,
      "metadata": {
        "colab": {
          "base_uri": "https://localhost:8080/"
        },
        "id": "Fak13MA8q7S2",
        "outputId": "3d04855e-ea58-4873-a7ae-1065bd2359b2"
      },
      "outputs": [
        {
          "name": "stdout",
          "output_type": "stream",
          "text": [
            "The Out-Bound vertices count for each vertex is as follows : \n",
            "A  :  2\n",
            "B  :  0\n",
            "C  :  1\n",
            "D  :  3\n",
            "E  :  3\n",
            "F  :  1\n",
            "G  :  4\n",
            "H  :  2\n"
          ]
        }
      ],
      "source": [
        "print(\"The Out-Bound vertices count for each vertex is as follows : \")\n",
        "\n",
        "for i in range(num_vertices) :\n",
        "  print(vertices_list[i], \" : \", out_bound_vertices_count[i])"
      ]
    },
    {
      "cell_type": "code",
      "execution_count": null,
      "metadata": {
        "colab": {
          "base_uri": "https://localhost:8080/"
        },
        "id": "QQPbeNMVrJbo",
        "outputId": "26123ded-e340-4aa6-8c74-df975aaa9c8a"
      },
      "outputs": [
        {
          "data": {
            "text/plain": [
              "{0: [3, 6],\n",
              " 1: [0, 2, 4, 6, 7],\n",
              " 2: [4, 6],\n",
              " 3: [7],\n",
              " 4: [3, 5],\n",
              " 5: [0, 6],\n",
              " 6: [3],\n",
              " 7: [4]}"
            ]
          },
          "execution_count": 9,
          "metadata": {},
          "output_type": "execute_result"
        }
      ],
      "source": [
        "in_bound_vertices_list = {}\n",
        "\n",
        "for i in range(num_vertices) :\n",
        "  in_bound_vertices_list[i] = []\n",
        "  for j in range(num_vertices) :\n",
        "    if adjacency_matrix[j][i] == 1 :\n",
        "      in_bound_vertices_list[i].append(j)\n",
        "\n",
        "in_bound_vertices_list"
      ]
    },
    {
      "cell_type": "code",
      "execution_count": null,
      "metadata": {
        "colab": {
          "base_uri": "https://localhost:8080/"
        },
        "id": "35QRh3_FrpNe",
        "outputId": "8ef9cb55-400d-4a54-a445-04890a9e91e8"
      },
      "outputs": [
        {
          "name": "stdout",
          "output_type": "stream",
          "text": [
            "The In-bound vertices for each vertex is as follows : \n",
            "A  : D, G\n",
            "B  : A, C, E, G, H\n",
            "C  : E, G\n",
            "D  : H\n",
            "E  : D, F\n",
            "F  : A, G\n",
            "G  : D\n",
            "H  : E\n"
          ]
        }
      ],
      "source": [
        "print(\"The In-bound vertices for each vertex is as follows : \")\n",
        "for i in range(num_vertices) :\n",
        "  print(vertices_list[i], \" : \", end=\"\")\n",
        "  print(\", \".join([vertices_list[j] for j in in_bound_vertices_list[i]]))"
      ]
    },
    {
      "cell_type": "code",
      "execution_count": null,
      "metadata": {
        "id": "N5bBTuuhr1U9"
      },
      "outputs": [],
      "source": [
        "\n",
        "def pageRank(graph, vertices_names, in_bound_vertices_list, out_bound_vertices_count, tolerance=1.0e-6, max_iterations=100) :\n",
        "  # Number of vertices\n",
        "  num_vertices = len(vertices_names)\n",
        "  page_rank_manual={}\n",
        "  page_rank = [(1/num_vertices) for _ in range(num_vertices)]\n",
        "  epsilon = num_vertices * tolerance\n",
        "  converged = False\n",
        "  for i in range(max_iterations) :\n",
        "    page_rank_old = page_rank[:]\n",
        "    for j in range(num_vertices) :\n",
        "      page_rank[j] = 0\n",
        "\n",
        "      for k in in_bound_vertices_list[j] :\n",
        "        page_rank[j] += page_rank_old[k] / out_bound_vertices_count[k]\n",
        "    error = sum([abs(page_rank[j] - page_rank_old[j]) for j in range(num_vertices)])\n",
        "    if error < epsilon :\n",
        "      converged = True\n",
        "      break\n",
        "    if converged :\n",
        "      page_rank_manual = {}\n",
        "    for i, pr in enumerate(page_rank) :\n",
        "      page_rank_manual[vertices_names[i]] = pr\n",
        "    return page_rank_manual\n",
        "\n",
        "\n",
        "\n",
        "\n",
        "\n"
      ]
    },
    {
      "cell_type": "code",
      "execution_count": null,
      "metadata": {
        "colab": {
          "base_uri": "https://localhost:8080/"
        },
        "id": "TP23nWRStl_8",
        "outputId": "33dfca90-3968-442f-c1f3-1aff925b929e"
      },
      "outputs": [
        {
          "data": {
            "text/plain": [
              "{'A': 0.07291666666666666,\n",
              " 'B': 0.32291666666666663,\n",
              " 'C': 0.07291666666666666,\n",
              " 'D': 0.0625,\n",
              " 'E': 0.16666666666666666,\n",
              " 'F': 0.09375,\n",
              " 'G': 0.041666666666666664,\n",
              " 'H': 0.041666666666666664}"
            ]
          },
          "execution_count": 24,
          "metadata": {},
          "output_type": "execute_result"
        }
      ],
      "source": [
        "page_rank_manual = pageRank(G, vertices_list, in_bound_vertices_list, out_bound_vertices_count)\n",
        "page_rank_manual"
      ]
    },
    {
      "cell_type": "code",
      "execution_count": null,
      "metadata": {
        "colab": {
          "base_uri": "https://localhost:8080/"
        },
        "id": "isefYkGxRE-1",
        "outputId": "804c04be-4044-4d98-bb93-e28632bf1a1d"
      },
      "outputs": [
        {
          "data": {
            "text/plain": [
              "{'A': 0.07291666666666666,\n",
              " 'B': 0.32291666666666663,\n",
              " 'C': 0.07291666666666666,\n",
              " 'D': 0.0625,\n",
              " 'E': 0.16666666666666666,\n",
              " 'F': 0.09375,\n",
              " 'G': 0.041666666666666664,\n",
              " 'H': 0.041666666666666664}"
            ]
          },
          "execution_count": 28,
          "metadata": {},
          "output_type": "execute_result"
        }
      ],
      "source": [
        "page_rank_manual=dict(sorted(page_rank_manual.items(),key=lambda item:item[1],reverse=True))\n",
        "page_rank_manual"
      ]
    },
    {
      "cell_type": "code",
      "execution_count": null,
      "metadata": {
        "colab": {
          "base_uri": "https://localhost:8080/"
        },
        "id": "mYpKVCgoSSBS",
        "outputId": "28dd2a81-9b5d-44b8-bcba-ac23baaf7e62"
      },
      "outputs": [
        {
          "name": "stdout",
          "output_type": "stream",
          "text": [
            "The rank are\n",
            "B = 0.32291666666666663\n",
            "E = 0.16666666666666666\n",
            "F = 0.09375\n",
            "A = 0.07291666666666666\n",
            "C = 0.07291666666666666\n",
            "D = 0.0625\n",
            "G = 0.041666666666666664\n",
            "H = 0.041666666666666664\n"
          ]
        }
      ],
      "source": [
        "print(\"The rank are\")\n",
        "for k,v in page_rank_manual.items():\n",
        "  print(k,\"=\",v)"
      ]
    }
  ],
  "metadata": {
    "colab": {
      "collapsed_sections": [],
      "name": "Lab9_19BCE1356.ipynb",
      "provenance": []
    },
    "kernelspec": {
      "display_name": "Python 3",
      "name": "python3"
    },
    "language_info": {
      "name": "python"
    }
  },
  "nbformat": 4,
  "nbformat_minor": 0
}
