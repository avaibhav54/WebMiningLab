{
 "cells": [
  {
   "cell_type": "markdown",
   "id": "b1dde000",
   "metadata": {},
   "source": [
    "# Question 1\n",
    "Build the inverted index for the following documents:\n",
    "ID1 : Selenium is a portable framework for testing web applications\n",
    "ID2 : Beautiful Soup is useful for web scraping\n",
    "ID3: It is a python package for parsing the pages\n",
    "ID4: Java programming can be used for web applications\n",
    "ID5: scraping web and crawling web is useful"
   ]
  },
  {
   "cell_type": "code",
   "execution_count": 9,
   "id": "003659b2",
   "metadata": {},
   "outputs": [],
   "source": [
    "import math\n",
    "import re\n",
    "import nltk\n",
    "import string\n",
    "import ssl\n",
    "\n",
    "try:\n",
    "    _create_unverified_https_context = ssl._create_unverified_context\n",
    "except AttributeError:\n",
    "    pass\n",
    "else:\n",
    "    ssl._create_default_https_context = _create_unverified_https_context"
   ]
  },
  {
   "cell_type": "code",
   "execution_count": 10,
   "id": "83a25886",
   "metadata": {},
   "outputs": [],
   "source": [
    "from nltk.tokenize import word_tokenize\n",
    "from nltk.corpus import stopwords"
   ]
  },
  {
   "cell_type": "code",
   "execution_count": 11,
   "id": "478eb2d0",
   "metadata": {},
   "outputs": [
    {
     "name": "stderr",
     "output_type": "stream",
     "text": [
      "[nltk_data] Downloading package punkt to\n",
      "[nltk_data]     /Users/vaibhavagarwal/nltk_data...\n",
      "[nltk_data]   Package punkt is already up-to-date!\n"
     ]
    },
    {
     "data": {
      "text/plain": [
       "True"
      ]
     },
     "execution_count": 11,
     "metadata": {},
     "output_type": "execute_result"
    }
   ],
   "source": [
    "nltk.download(\"punkt\")"
   ]
  },
  {
   "cell_type": "code",
   "execution_count": 4,
   "id": "fb91e046",
   "metadata": {},
   "outputs": [
    {
     "name": "stdout",
     "output_type": "stream",
     "text": [
      "['Selenium is a portable framework for testing web applications', 'Beautiful Soup is useful for web scraping', 'It is a python package for parsing the pages', 'Java programming can be used for web applications', 'scraping web and crawling web is useful']\n"
     ]
    }
   ],
   "source": [
    "docs = [\n",
    "    \"Selenium is a portable framework for testing web applications\",\n",
    "\"Beautiful Soup is useful for web scraping\",\n",
    "\"It is a python package for parsing the pages\",\n",
    "\"Java programming can be used for web applications\",\n",
    "\"scraping web and crawling web is useful\"]\n",
    "print(docs)"
   ]
  },
  {
   "cell_type": "code",
   "execution_count": 5,
   "id": "e8ee688a",
   "metadata": {},
   "outputs": [],
   "source": [
    "def textpreprocess(text):\n",
    "    s = text.lower()\n",
    "    s = s.replace('/[^A-Za-z0-9]/g', '')\n",
    "    s = s.strip()\n",
    "    words = word_tokenize(s)\n",
    "    stop_words = set(stopwords.words('english'))\n",
    "    words = [word for word in words if word not in stop_words]\n",
    "    return words"
   ]
  },
  {
   "cell_type": "code",
   "execution_count": 12,
   "id": "4745e263",
   "metadata": {},
   "outputs": [
    {
     "name": "stderr",
     "output_type": "stream",
     "text": [
      "[nltk_data] Downloading package punkt to\n",
      "[nltk_data]     /Users/vaibhavagarwal/nltk_data...\n",
      "[nltk_data]   Package punkt is already up-to-date!\n",
      "[nltk_data] Downloading package stopwords to\n",
      "[nltk_data]     /Users/vaibhavagarwal/nltk_data...\n",
      "[nltk_data]   Unzipping corpora/stopwords.zip.\n"
     ]
    },
    {
     "data": {
      "text/plain": [
       "True"
      ]
     },
     "execution_count": 12,
     "metadata": {},
     "output_type": "execute_result"
    }
   ],
   "source": [
    "nltk.download(\"punkt\")\n",
    "nltk.download('stopwords')"
   ]
  },
  {
   "cell_type": "code",
   "execution_count": 7,
   "id": "7c8bbded",
   "metadata": {},
   "outputs": [],
   "source": [
    "def findOccurance(text, word) :\n",
    "    text = text.replace('/[^A-Za-z0-9]/g', '')\n",
    "    text = text.replace(' ', ' ')\n",
    "    text = text.lower()\n",
    "    text_words = text.strip().split()\n",
    "    word_count = 0\n",
    "    word_positions = []\n",
    "    for i in range(len(text_words)) :\n",
    "        if word == text_words[i] :\n",
    "            word_count += 1\n",
    "            word_positions.append(i)\n",
    "    return (word_count, word_positions)"
   ]
  },
  {
   "cell_type": "code",
   "execution_count": 8,
   "id": "d9a48047",
   "metadata": {},
   "outputs": [],
   "source": [
    "inverted_index = {}\n",
    "for (i, doc) in enumerate(documents) :\n",
    "    words = textpreprocess(doc)\n",
    "    for word in words :\n",
    "        if word not in inverted_index :\n",
    "            inverted_index[word] = []\n",
    "        occurance_count, occurance_pos_list = findOccurance(doc, word)\n",
    "        inverted_index[word].append(((i+1), occurance_count, occurance_pos_list))"
   ]
  },
  {
   "cell_type": "code",
   "execution_count": 9,
   "id": "064fb297",
   "metadata": {},
   "outputs": [
    {
     "name": "stdout",
     "output_type": "stream",
     "text": [
      "INVERTED INDEX\n",
      "('selenium', [(1, 1, [0])])\n",
      "('portable', [(1, 1, [3])])\n",
      "('framework', [(1, 1, [4])])\n",
      "('testing', [(1, 1, [6])])\n",
      "('web', [(1, 1, [7]), (2, 1, [5]), (4, 1, [6]), (5, 2, [1, 4]), (5, 2, [1, 4])])\n",
      "('applications', [(1, 1, [8]), (4, 1, [7])])\n",
      "('beautiful', [(2, 1, [0])])\n",
      "('soup', [(2, 1, [1])])\n",
      "('useful', [(2, 1, [3]), (5, 1, [6])])\n",
      "('scraping', [(2, 1, [6]), (5, 1, [0])])\n",
      "('python', [(3, 1, [3])])\n",
      "('package', [(3, 1, [4])])\n",
      "('parsing', [(3, 1, [6])])\n",
      "('pages', [(3, 1, [8])])\n",
      "('java', [(4, 1, [0])])\n",
      "('programming', [(4, 1, [1])])\n",
      "('used', [(4, 1, [4])])\n",
      "('crawling', [(5, 1, [3])])\n"
     ]
    }
   ],
   "source": [
    "print(\"INVERTED INDEX\")\n",
    "for ind in inverted_index.items():\n",
    "    print(ind)"
   ]
  },
  {
   "cell_type": "markdown",
   "id": "f4d37448",
   "metadata": {},
   "source": [
    "# Question 2\n",
    "Search following words using the inverted index\n",
    "\n",
    "a. Selenium AND web"
   ]
  },
  {
   "cell_type": "code",
   "execution_count": 14,
   "id": "90790c4c",
   "metadata": {},
   "outputs": [
    {
     "name": "stdout",
     "output_type": "stream",
     "text": [
      "Selenium word occurs in the following position\n",
      "Doc no  no.of times  offset number\n",
      "D 1          1          [0]\n",
      "web word occurs in the following position\n",
      "Doc no  no.of times  offset number\n",
      "D 1          1          [7]\n",
      "D 2          1          [5]\n",
      "D 4          1          [6]\n",
      "D 5          2          [1, 4]\n",
      "D 5          2          [1, 4]\n",
      "Selenium AND web word occurs in the following position\n",
      "Doc no  no.of times  offset number\n",
      "D 1          1          [0]\n",
      "D 1          1          [7]\n"
     ]
    }
   ],
   "source": [
    "print(\"Selenium word occurs in the following position\")\n",
    "print(\"Doc no  no.of times  offset number\")\n",
    "for index in inverted_index.items():\n",
    "    if index[0]==\"selenium\" :\n",
    "        for indexes in index[1]:\n",
    "            print(\"D\",indexes[0],\"        \",indexes[1],\"        \",indexes[2])\n",
    "print(\"web word occurs in the following position\")\n",
    "print(\"Doc no  no.of times  offset number\")\n",
    "for index in inverted_index.items():\n",
    "    if(index[0]==\"web\"):\n",
    "        for indexes in index[1]:\n",
    "            print(\"D\",indexes[0],\"        \",indexes[1],\"        \",indexes[2])\n",
    "\n",
    "            \n",
    "print(\"Selenium AND web word occurs in the following position\")\n",
    "print(\"Doc no  no.of times  offset number\")\n",
    "for index in inverted_index.items():\n",
    "    if index[0]==\"selenium\" or index[0]==\"web\":\n",
    "        for indexes in index[1]:\n",
    "            if(indexes[0]==1):\n",
    "                print(\"D\",indexes[0],\"        \",indexes[1],\"        \",indexes[2])"
   ]
  },
  {
   "cell_type": "markdown",
   "id": "1259bfb5",
   "metadata": {},
   "source": [
    "b. Soup"
   ]
  },
  {
   "cell_type": "code",
   "execution_count": 15,
   "id": "4435c55c",
   "metadata": {},
   "outputs": [
    {
     "name": "stdout",
     "output_type": "stream",
     "text": [
      "Soup word occurs in the following position\n",
      "Doc no  no.of times  offset number\n",
      "D 2          1          [1]\n"
     ]
    }
   ],
   "source": [
    "print(\"Soup word occurs in the following position\")\n",
    "print(\"Doc no  no.of times  offset number\")\n",
    "for index in inverted_index.items():\n",
    "    if(index[0]==\"soup\"):\n",
    "        for indexes in index[1]:\n",
    "            print(\"D\",indexes[0],\"        \",indexes[1],\"        \",indexes[2])"
   ]
  },
  {
   "cell_type": "markdown",
   "id": "2665ea2b",
   "metadata": {},
   "source": [
    "c. Python OR java"
   ]
  },
  {
   "cell_type": "code",
   "execution_count": 16,
   "id": "b22ba0c0",
   "metadata": {},
   "outputs": [
    {
     "name": "stdout",
     "output_type": "stream",
     "text": [
      "Python OR java word occurs in the following position\n",
      "Doc no  no.of times  offset number\n",
      "D 3          1          [3]\n",
      "D 4          1          [0]\n"
     ]
    }
   ],
   "source": [
    "print(\"Python OR java word occurs in the following position\")\n",
    "print(\"Doc no  no.of times  offset number\")\n",
    "for index in inverted_index.items():\n",
    "    if index[0]==\"python\" or index[0]==\"java\":\n",
    "        for indexes in index[1]:\n",
    "            print(\"D\",indexes[0],\"        \",indexes[1],\"        \",indexes[2])"
   ]
  },
  {
   "cell_type": "markdown",
   "id": "caa91f1f",
   "metadata": {},
   "source": [
    "d. Web AND craw"
   ]
  },
  {
   "cell_type": "code",
   "execution_count": 18,
   "id": "d8e4bf80",
   "metadata": {},
   "outputs": [
    {
     "name": "stdout",
     "output_type": "stream",
     "text": [
      "Web AND craw word occurs in the following position\n",
      "Doc no  no.of times  offset number\n"
     ]
    }
   ],
   "source": [
    "print(\"Web AND craw word occurs in the following position\")\n",
    "print(\"Doc no  no.of times  offset number\")\n",
    "for index in inverted_index.items():\n",
    "    if index[0]==\"web\" and index[0]==\"craw\":\n",
    "        for indexes in index[1]:\n",
    "            print(\"D\",indexes[0],\"        \",indexes[1],\"        \",indexes[2])"
   ]
  },
  {
   "cell_type": "code",
   "execution_count": null,
   "id": "406c260a",
   "metadata": {},
   "outputs": [],
   "source": []
  }
 ],
 "metadata": {
  "kernelspec": {
   "display_name": "Python 3",
   "language": "python",
   "name": "python3"
  },
  "language_info": {
   "codemirror_mode": {
    "name": "ipython",
    "version": 3
   },
   "file_extension": ".py",
   "mimetype": "text/x-python",
   "name": "python",
   "nbconvert_exporter": "python",
   "pygments_lexer": "ipython3",
   "version": "3.7.9"
  }
 },
 "nbformat": 4,
 "nbformat_minor": 5
}
