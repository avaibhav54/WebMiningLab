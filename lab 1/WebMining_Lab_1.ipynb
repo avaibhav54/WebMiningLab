{
 "cells": [
  {
   "cell_type": "markdown",
   "metadata": {},
   "source": [
    "# Question 1\n",
    "\n",
    " Given a root URL, e.g., \"Vit.ac.in\", Design a simple crawler to return all pages that contains a string \"research\" from this site. "
   ]
  },
  {
   "cell_type": "code",
   "execution_count": 1,
   "metadata": {},
   "outputs": [],
   "source": [
    "import requests \n",
    "from bs4 import BeautifulSoup \n",
    "import re \n"
   ]
  },
  {
   "cell_type": "code",
   "execution_count": 2,
   "metadata": {},
   "outputs": [],
   "source": [
    "root_URL = \"http://www.vit.ac.in\" \n",
    "search_word = \"research\" \n"
   ]
  },
  {
   "cell_type": "code",
   "execution_count": 3,
   "metadata": {},
   "outputs": [
    {
     "name": "stdout",
     "output_type": "stream",
     "text": [
      "Status of the response :  200\n"
     ]
    }
   ],
   "source": [
    "response = requests.get(root_URL) \n",
    "print(\"Status of the response : \", response.status_code) \n"
   ]
  },
  {
   "cell_type": "code",
   "execution_count": 4,
   "metadata": {},
   "outputs": [],
   "source": [
    "# Use the Beautiful Soap library to parse the retrieved web page\n",
    "\n",
    "root_page = BeautifulSoup(response.content, 'html.parser') \n"
   ]
  },
  {
   "cell_type": "code",
   "execution_count": 5,
   "metadata": {},
   "outputs": [],
   "source": [
    "# Retrieve all the links to the sub-pages by retrieving all the `<a>` tags\n",
    "\n",
    "anchor_tags = root_page.find_all('a')\n",
    "\n",
    "result = []\n",
    "\n",
    "# Check if the word \"admission\" is present in each page, and if so then save its URL\n",
    "for anchor_tag in anchor_tags :\n",
    "    link = anchor_tag['href']\n",
    "    if re.search(search_word, link, re.IGNORECASE) :\n",
    "        result.append(link)"
   ]
  },
  {
   "cell_type": "code",
   "execution_count": 6,
   "metadata": {
    "scrolled": true
   },
   "outputs": [
    {
     "name": "stdout",
     "output_type": "stream",
     "text": [
      "The links in the root URL page which contains the word 'research' are :\n",
      "\t https://vit.ac.in/admissions/research\n",
      "\t https://vit.ac.in/admissions/research/Integrated_Ph.D\n",
      "\t https://vit.ac.in/admissions/research/phd\n",
      "\t https://vit.ac.in/research\n",
      "\t https://vit.ac.in/research\n",
      "\t https://vit.ac.in/research/academic\n",
      "\t https://vit.ac.in/research/sponsored-research\n",
      "\t https://vit.ac.in/research/centers-list\n",
      "\t 3d-printing-play-major-role-mitigating-spread-covid-19-say-researchers-vit\n",
      "\t 3d-printing-play-major-role-mitigating-spread-covid-19-say-researchers-vit\n",
      "\t https://vit.ac.in/research\n"
     ]
    }
   ],
   "source": [
    "print(\"The links in the root URL page which contains the word 'research' are :\")\n",
    "for url in result :\n",
    "    print(\"\\t\", url)"
   ]
  },
  {
   "cell_type": "markdown",
   "metadata": {},
   "source": [
    "# Question 2\n",
    "Find documents that contain the word “admissions” and the word “international” within the URL “Vit.ac.in” using Python."
   ]
  },
  {
   "cell_type": "code",
   "execution_count": 7,
   "metadata": {},
   "outputs": [],
   "source": [
    "import requests \n",
    "from bs4 import BeautifulSoup \n",
    "import re "
   ]
  },
  {
   "cell_type": "code",
   "execution_count": 8,
   "metadata": {},
   "outputs": [],
   "source": [
    "root_URL = \"http://www.vit.ac.in\" \n",
    "search_words = ['admissions', 'international'] "
   ]
  },
  {
   "cell_type": "code",
   "execution_count": 9,
   "metadata": {},
   "outputs": [
    {
     "name": "stdout",
     "output_type": "stream",
     "text": [
      "Status of the response :  200\n"
     ]
    }
   ],
   "source": [
    "response = requests.get(root_URL) \n",
    "print(\"Status of the response : \", response.status_code)\n"
   ]
  },
  {
   "cell_type": "code",
   "execution_count": 10,
   "metadata": {},
   "outputs": [],
   "source": [
    "root_page = BeautifulSoup(response.content, 'html.parser')\n"
   ]
  },
  {
   "cell_type": "code",
   "execution_count": 11,
   "metadata": {},
   "outputs": [],
   "source": [
    "anchor_tags = root_page.find_all('a') \n"
   ]
  },
  {
   "cell_type": "code",
   "execution_count": 12,
   "metadata": {},
   "outputs": [],
   "source": [
    "valid_links = [] \n",
    "for anchor_tag in anchor_tags : \n",
    "    link = anchor_tag['href'] \n",
    "    if link.startswith(\"http\") : \n",
    "        if link not in valid_links : \n",
    "            valid_links.append(link) \n"
   ]
  },
  {
   "cell_type": "code",
   "execution_count": 13,
   "metadata": {},
   "outputs": [
    {
     "name": "stdout",
     "output_type": "stream",
     "text": [
      "The number of documents/pages linked to the current root page is :  166\n"
     ]
    }
   ],
   "source": [
    "print(\"The number of documents/pages linked to the current root page is : \", len (valid_links)) \n"
   ]
  },
  {
   "cell_type": "code",
   "execution_count": 14,
   "metadata": {},
   "outputs": [],
   "source": [
    "result=[]\n",
    "failed=[]"
   ]
  },
  {
   "cell_type": "code",
   "execution_count": 15,
   "metadata": {},
   "outputs": [
    {
     "name": "stderr",
     "output_type": "stream",
     "text": [
      "D:\\CSE 3rd year\\anaconda\\lib\\site-packages\\urllib3\\connectionpool.py:1013: InsecureRequestWarning: Unverified HTTPS request is being made to host 'chennai.vit.ac.in'. Adding certificate verification is strongly advised. See: https://urllib3.readthedocs.io/en/latest/advanced-usage.html#ssl-warnings\n",
      "  warnings.warn(\n",
      "D:\\CSE 3rd year\\anaconda\\lib\\site-packages\\urllib3\\connectionpool.py:1013: InsecureRequestWarning: Unverified HTTPS request is being made to host 'careers.vit.ac.in'. Adding certificate verification is strongly advised. See: https://urllib3.readthedocs.io/en/latest/advanced-usage.html#ssl-warnings\n",
      "  warnings.warn(\n",
      "D:\\CSE 3rd year\\anaconda\\lib\\site-packages\\urllib3\\connectionpool.py:1013: InsecureRequestWarning: Unverified HTTPS request is being made to host 'vittbi.com'. Adding certificate verification is strongly advised. See: https://urllib3.readthedocs.io/en/latest/advanced-usage.html#ssl-warnings\n",
      "  warnings.warn(\n",
      "D:\\CSE 3rd year\\anaconda\\lib\\site-packages\\urllib3\\connectionpool.py:1013: InsecureRequestWarning: Unverified HTTPS request is being made to host 'careers.vit.ac.in'. Adding certificate verification is strongly advised. See: https://urllib3.readthedocs.io/en/latest/advanced-usage.html#ssl-warnings\n",
      "  warnings.warn(\n"
     ]
    }
   ],
   "source": [
    "for link in valid_links : \n",
    "    try : \n",
    "        page = requests.get(link).text \n",
    "    except requests.ConnectionError :\n",
    "        try : \n",
    "            page = requests.get(link, verify=False).text \n",
    "        except : \n",
    "            failed.append(link) \n",
    "        continue \n",
    "    if (re.search(search_words[0], page, re.IGNORECASE)) and (re.search(search_words[1], page, re.IGNORECASE)) : \n",
    "        result.append(link) \n",
    "\n"
   ]
  },
  {
   "cell_type": "code",
   "execution_count": 16,
   "metadata": {},
   "outputs": [
    {
     "name": "stdout",
     "output_type": "stream",
     "text": [
      "The links in the root URL page which contains the word 'admissions', and 'international' are :\n",
      "\t https://vitap.ac.in/\n",
      "\t https://vitbhopal.ac.in/\n",
      "\t https://vit.ac.in\n",
      "\t https://vit.ac.in/about-vit\n",
      "\t https://vit.ac.in/about/vision-mission\n",
      "\t https://vit.ac.in/vit-milestones\n",
      "\t https://vit.ac.in/about/leadership\n",
      "\t https://vit.ac.in/governance\n",
      "\t https://vit.ac.in/about/administrative-offices\n",
      "\t https://vit.ac.in/about/infrastructure\n",
      "\t https://vit.ac.in/about/ranking-and-accreditation\n",
      "\t https://vit.ac.in/about/sustainability\n",
      "\t https://vit.ac.in/true-green\n",
      "\t https://vit.ac.in/about/community-outreach\n",
      "\t https://vit.ac.in/about/communityradio\n",
      "\t https://vit.ac.in/all-news-archieved\n",
      "\t https://vit.ac.in/all-events\n",
      "\t https://vit.ac.in/national-institutional-ranking-framework-nirf\n",
      "\t https://vit.ac.in/mhrdugc\n",
      "\t https://vit.ac.in/about/news-letter\n",
      "\t https://vit.ac.in/academics/home\n",
      "\t https://vit.ac.in/programmes-offered-1\n",
      "\t https://vit.ac.in/programmes-offered-2021-22\n",
      "\t https://vit.ac.in/programmes-offered-2020-21\n",
      "\t https://vit.ac.in/schools\n",
      "\t https://vit.ac.in/academics/ffcs\n",
      "\t https://vit.ac.in/academics/library\n",
      "\t https://vit.ac.in/academics-feedback\n",
      "\t https://vit.ac.in/admissions/overview\n",
      "\t https://vit.ac.in/admissions/programmes-offered\n",
      "\t https://vit.ac.in/all-courses/ug\n",
      "\t https://vit.ac.in/all-courses/pg\n",
      "\t https://vit.ac.in/admissions/research\n",
      "\t https://vit.ac.in/admissions/research/Integrated_Ph.D\n",
      "\t https://vit.ac.in/admissions/research/phd\n",
      "\t https://vit.ac.in/admissions/international\n",
      "\t https://vit.ac.in/stars-support-advancement-rural-students-0\n",
      "\t https://vit.ac.in/placements/overview\n",
      "\t https://vit.ac.in/career-development-centre\n",
      "\t https://vit.ac.in/placements/superdreamoffers\n",
      "\t https://vit.ac.in/placements/dreamoffers\n",
      "\t https://vit.ac.in/placements/internship\n",
      "\t https://vit.ac.in/placements/statistics\n",
      "\t https://vit.ac.in/placements/pat-Office\n",
      "\t https://vit.ac.in/placements/contact-us\n",
      "\t https://vit.ac.in/InternationalRelations\n",
      "\t https://vit.ac.in/internationalrelations/itp\n",
      "\t https://vit.ac.in/internationalrelations/partneruniversities\n",
      "\t https://vit.ac.in/internationalrelations/sap\n",
      "\t https://vit.ac.in/admissions/international/overview\n",
      "\t https://vit.ac.in/academics-more/Contact us\n",
      "\t https://vit.ac.in/research\n",
      "\t https://vit.ac.in/research/academic\n",
      "\t https://vit.ac.in/research/sponsored-research\n",
      "\t https://vit.ac.in/iprcell\n",
      "\t https://vit.ac.in/research/centers-list\n",
      "\t https://vit.ac.in/campuslife/overview\n",
      "\t https://vit.ac.in/campuslife/fests\n",
      "\t https://vit.ac.in/campuslife/studentswelfare\n",
      "\t https://vit.ac.in/campus-category/Clubs\n",
      "\t https://vit.ac.in/campus-category/Chapters\n",
      "\t https://vit.ac.in/campus-category/Campus-Events\n",
      "\t https://vit.ac.in/campus-category/Counselling-Division\n",
      "\t https://vit.ac.in/campus-category/grievancecell\n",
      "\t https://vit.ac.in/campus-category/Student-Council\n",
      "\t https://vit.ac.in/campuslife/sports\n",
      "\t https://vit.ac.in/campuslife/hostels\n",
      "\t https://vit.ac.in/campuslife/healthservices\n",
      "\t https://vit.ac.in/campuslife/otheramenities\n",
      "\t https://vit.ac.in/detailview/green-vit\n",
      "\t https://vit.ac.in/academics/coe\n",
      "\t https://vit.ac.in/transcripts-alumni\n",
      "\t https://vit.ac.in/coe-email-contacts\n",
      "\t https://vit.ac.in/centers/asc\n",
      "\t https://vit.ac.in/guest-house\n",
      "\t https://vit.ac.in/redressal\n",
      "\t https://vit.ac.in/hotels-in-vellore\n",
      "\t https://vit.ac.in/anti-ragging-committee\n",
      "\t https://vit.ac.in/capability-enhancement-scheme\n",
      "\t https://vit.ac.in/internal-complaints-committee\n",
      "\t https://vit.ac.in/academics/transcripts\n",
      "\t https://vit.ac.in/instruction\n",
      "\t https://vit.ac.in/alumni-events\n",
      "\t https://vit.ac.in/detailview/alumni-photo-gallery\n",
      "\t https://vit.ac.in/alumni-office-contact\n",
      "\t https://www.instagram.com/vellore_vit/\n",
      "\t https://vit.ac.in/school-electronics-engineering-sense/3-days-online-workshop-thin-film-deposition-and-device\n",
      "\t https://vit.ac.in/general/online-workshop-analytical-instruments-hplc-and-uplc-0\n",
      "\t https://vit.ac.in/school-electronics-engineering-sense/one-day-online-training-python-libraries\n",
      "\t https://vit.ac.in/vit-school-agricultural-innovations-and-advanced-learning-vaial/national-farmers-day-2021\n",
      "\t https://vit.ac.in/vit-business-school-vit-bs/vit-business-school-management-fest-2022\n",
      "\t https://vit.ac.in/school-electronics-engineering-sense/second-international-conference-artificial-intelligence\n",
      "\t https://vit.ac.in/school-mechanical-engineeringsmec/27th-national-conference-internal-combustion-engines-and\n",
      "\t https://vit.ac.in/all-courses/pg/master-of-business-administration\n",
      "\t https://vit.ac.in/phd-vacancy-positions-list\n",
      "\t https://vit.ac.in/detailview/36th-convocation-photos\n",
      "\t https://vit.ac.in/vit-institution-eminence-ioe\n",
      "\t https://vit.ac.in/ariia-award\n",
      "\t https://vit.ac.in/qs-ranks-vit-one-among-top-12-institutions-india-engineering-and-technology\n",
      "\t https://vit.ac.in/vit-only-private-institution-india-shanghai-ranking-2021\n",
      "\t https://vit.ac.in/vit-university-sets-record-limca-book-records\n",
      "\t https://vit.ac.in/vit-student-won-gold-medal-archery-event-5th-pykka-national-games-held-jaipur\n",
      "\t https://vit.ac.in/36th-annual-convocation-0\n",
      "\t https://vit.ac.in/agrivaial-imparts-training-students-about-use-drones-organic-farming\n",
      "\t https://vit.ac.in/birth-anniversary-periyar-ev-ramasamy-0\n",
      "\t https://vit.ac.in/galleries\n",
      "\t https://vit.ac.in/video\n",
      "\t https://vit.ac.in/campus-hostel/hostels\n",
      "\t https://vit.ac.in/sitemap/\n",
      "\t https://vit.ac.in/academics/iqac\n",
      "\t https://vit.ac.in/contactus\n",
      "\t https://vit.ac.in/guesthouse/\n"
     ]
    }
   ],
   "source": [
    "print(\"The links in the root URL page which contains the word 'admissions', and 'international' are :\") \n",
    "for url in result : \n",
    "      print(\"\\t\", url) "
   ]
  },
  {
   "cell_type": "code",
   "execution_count": 17,
   "metadata": {},
   "outputs": [
    {
     "name": "stdout",
     "output_type": "stream",
     "text": [
      "The links that we failed to open are : \n",
      "\t http://intranet.vit.ac.in\n",
      "\t http://intranet.vit.ac.in/\n"
     ]
    }
   ],
   "source": [
    "print(\"The links that we failed to open are : \")\n",
    "for url in failed : \n",
    "    print(\"\\t\", url) "
   ]
  },
  {
   "cell_type": "markdown",
   "metadata": {},
   "source": [
    "# Question 3\n",
    "Find documents that contain the word “Programme” but not the word “programming” within the URL “Vit.ac.in” using Python. "
   ]
  },
  {
   "cell_type": "code",
   "execution_count": 18,
   "metadata": {},
   "outputs": [],
   "source": [
    "import requests \n",
    "from bs4 import BeautifulSoup \n",
    "import re "
   ]
  },
  {
   "cell_type": "code",
   "execution_count": 19,
   "metadata": {},
   "outputs": [],
   "source": [
    "root_URL = \"http://www.vit.ac.in\" \n",
    "search_word_1 = \"Programme\" \n",
    "search_word_2 = \"Programming\" "
   ]
  },
  {
   "cell_type": "code",
   "execution_count": 20,
   "metadata": {},
   "outputs": [
    {
     "name": "stdout",
     "output_type": "stream",
     "text": [
      "Status of the response :  200\n"
     ]
    }
   ],
   "source": [
    "response = requests.get(root_URL) \n",
    "print(\"Status of the response : \", response.status_code) "
   ]
  },
  {
   "cell_type": "code",
   "execution_count": 21,
   "metadata": {},
   "outputs": [],
   "source": [
    "root_page = BeautifulSoup(response.content, 'html.parser')"
   ]
  },
  {
   "cell_type": "code",
   "execution_count": 22,
   "metadata": {},
   "outputs": [],
   "source": [
    "anchor_tags = root_page.find_all('a') \n",
    "\n"
   ]
  },
  {
   "cell_type": "code",
   "execution_count": 23,
   "metadata": {},
   "outputs": [],
   "source": [
    "valid_links = [] \n",
    "for anchor_tag in anchor_tags : \n",
    "    link = anchor_tag['href'] \n",
    "    if link.startswith(\"http\") : \n",
    "        if link not in valid_links :\n",
    "            valid_links.append(link)"
   ]
  },
  {
   "cell_type": "code",
   "execution_count": 24,
   "metadata": {},
   "outputs": [
    {
     "name": "stdout",
     "output_type": "stream",
     "text": [
      "The number of documents/pages linked to the current root page is :  166\n"
     ]
    }
   ],
   "source": [
    "print(\"The number of documents/pages linked to the current root page is : \", len (valid_links)) "
   ]
  },
  {
   "cell_type": "code",
   "execution_count": 25,
   "metadata": {},
   "outputs": [],
   "source": [
    "# Arrays to store the links\n",
    "\n",
    "result = []\n",
    "failed = []"
   ]
  },
  {
   "cell_type": "code",
   "execution_count": 26,
   "metadata": {},
   "outputs": [
    {
     "name": "stderr",
     "output_type": "stream",
     "text": [
      "D:\\CSE 3rd year\\anaconda\\lib\\site-packages\\urllib3\\connectionpool.py:1013: InsecureRequestWarning: Unverified HTTPS request is being made to host 'chennai.vit.ac.in'. Adding certificate verification is strongly advised. See: https://urllib3.readthedocs.io/en/latest/advanced-usage.html#ssl-warnings\n",
      "  warnings.warn(\n",
      "D:\\CSE 3rd year\\anaconda\\lib\\site-packages\\urllib3\\connectionpool.py:1013: InsecureRequestWarning: Unverified HTTPS request is being made to host 'careers.vit.ac.in'. Adding certificate verification is strongly advised. See: https://urllib3.readthedocs.io/en/latest/advanced-usage.html#ssl-warnings\n",
      "  warnings.warn(\n",
      "D:\\CSE 3rd year\\anaconda\\lib\\site-packages\\urllib3\\connectionpool.py:1013: InsecureRequestWarning: Unverified HTTPS request is being made to host 'vittbi.com'. Adding certificate verification is strongly advised. See: https://urllib3.readthedocs.io/en/latest/advanced-usage.html#ssl-warnings\n",
      "  warnings.warn(\n",
      "D:\\CSE 3rd year\\anaconda\\lib\\site-packages\\urllib3\\connectionpool.py:1013: InsecureRequestWarning: Unverified HTTPS request is being made to host 'careers.vit.ac.in'. Adding certificate verification is strongly advised. See: https://urllib3.readthedocs.io/en/latest/advanced-usage.html#ssl-warnings\n",
      "  warnings.warn(\n"
     ]
    }
   ],
   "source": [
    "for link in valid_links : \n",
    "    try : \n",
    "        page = requests.get(link).text \n",
    "    except requests.ConnectionError : \n",
    "        try : \n",
    "            page = requests.get(link, verify=False).text \n",
    "        except : \n",
    "            failed.append(link) \n",
    "        continue \n",
    "    if (re.search(search_word_1, page, re.IGNORECASE)) and (not re.search(search_word_2, page, re.IGNORECASE)) :\n",
    "        result.append(link) \n"
   ]
  },
  {
   "cell_type": "code",
   "execution_count": 27,
   "metadata": {},
   "outputs": [
    {
     "name": "stdout",
     "output_type": "stream",
     "text": [
      "The links in the root URL page which contains the word 'Programme' but not the word 'programming' are :\n",
      "\t https://vitap.ac.in/\n",
      "\t https://vitbhopal.ac.in/\n",
      "\t https://vit.ac.in\n",
      "\t https://vit.ac.in/about-vit\n",
      "\t https://vit.ac.in/about/vision-mission\n",
      "\t https://vit.ac.in/vit-milestones\n",
      "\t https://vit.ac.in/about/leadership\n",
      "\t https://vit.ac.in/governance\n",
      "\t https://vit.ac.in/about/administrative-offices\n",
      "\t https://vit.ac.in/about/infrastructure\n",
      "\t https://vit.ac.in/about/ranking-and-accreditation\n",
      "\t https://vit.ac.in/about/sustainability\n",
      "\t https://vit.ac.in/true-green\n",
      "\t https://vit.ac.in/about/community-outreach\n",
      "\t https://vit.ac.in/about/communityradio\n",
      "\t https://vit.ac.in/all-news-archieved\n",
      "\t https://vit.ac.in/national-institutional-ranking-framework-nirf\n",
      "\t https://vit.ac.in/mhrdugc\n",
      "\t https://vit.ac.in/about/news-letter\n",
      "\t https://vit.ac.in/academics/home\n",
      "\t https://vit.ac.in/sites/default/files/academic/Academic-Regulations.pdf\n",
      "\t https://vit.ac.in/programmes-offered-1\n",
      "\t https://vit.ac.in/programmes-offered-2021-22\n",
      "\t https://vit.ac.in/programmes-offered-2020-21\n",
      "\t https://vit.ac.in/schools\n",
      "\t https://vit.ac.in/academics/ffcs\n",
      "\t https://vit.ac.in/academics/library\n",
      "\t https://vit.ac.in/academics-feedback\n",
      "\t https://vit.ac.in/admissions/overview\n",
      "\t https://vit.ac.in/admissions/programmes-offered\n",
      "\t https://vit.ac.in/all-courses/ug\n",
      "\t https://vit.ac.in/all-courses/pg\n",
      "\t https://vit.ac.in/admissions/research\n",
      "\t https://vit.ac.in/admissions/research/Integrated_Ph.D\n",
      "\t https://vit.ac.in/admissions/research/phd\n",
      "\t https://vit.ac.in/admissions/international\n",
      "\t https://vit.ac.in/stars-support-advancement-rural-students-0\n",
      "\t https://vit.ac.in/placements/overview\n",
      "\t https://vit.ac.in/career-development-centre\n",
      "\t https://vit.ac.in/placements/superdreamoffers\n",
      "\t https://vit.ac.in/placements/dreamoffers\n",
      "\t https://vit.ac.in/placements/internship\n",
      "\t https://vit.ac.in/placements/statistics\n",
      "\t https://vit.ac.in/placements/pat-Office\n",
      "\t https://vit.ac.in/placements/contact-us\n",
      "\t https://vit.ac.in/InternationalRelations\n",
      "\t https://vit.ac.in/internationalrelations/itp\n",
      "\t https://vit.ac.in/internationalrelations/partneruniversities\n",
      "\t https://vit.ac.in/internationalrelations/sap\n",
      "\t https://vit.ac.in/admissions/international/overview\n",
      "\t https://vit.ac.in/academics-more/Contact us\n",
      "\t https://vit.ac.in/research\n",
      "\t https://vit.ac.in/research/academic\n",
      "\t https://vit.ac.in/research/sponsored-research\n",
      "\t https://vit.ac.in/iprcell\n",
      "\t https://vit.ac.in/research/centers-list\n",
      "\t https://vit.ac.in/campuslife/overview\n",
      "\t https://vit.ac.in/campuslife/fests\n",
      "\t https://vit.ac.in/campuslife/studentswelfare\n",
      "\t https://vit.ac.in/campus-category/Clubs\n",
      "\t https://vit.ac.in/campus-category/Chapters\n",
      "\t https://vit.ac.in/campus-category/Campus-Events\n",
      "\t https://vit.ac.in/campus-category/Counselling-Division\n",
      "\t https://vit.ac.in/campus-category/grievancecell\n",
      "\t https://vit.ac.in/campus-category/Student-Council\n",
      "\t https://vit.ac.in/campuslife/sports\n",
      "\t https://vit.ac.in/campuslife/hostels\n",
      "\t https://vit.ac.in/campuslife/healthservices\n",
      "\t https://vit.ac.in/campuslife/otheramenities\n",
      "\t https://vit.ac.in/detailview/green-vit\n",
      "\t https://vit.ac.in/vitol/\n",
      "\t https://vit.ac.in/academics/coe\n",
      "\t https://vit.ac.in/transcripts-alumni\n",
      "\t https://vit.ac.in/coe-email-contacts\n",
      "\t https://vit.ac.in/centers/asc\n",
      "\t https://vit.ac.in/guest-house\n",
      "\t https://vit.ac.in/redressal\n",
      "\t https://vit.ac.in/hotels-in-vellore\n",
      "\t https://vit.ac.in/anti-ragging-committee\n",
      "\t https://vit.ac.in/capability-enhancement-scheme\n",
      "\t https://vit.ac.in/sites/default/files/FormatGuidelines.doc\n",
      "\t https://vit.ac.in/internal-complaints-committee\n",
      "\t https://vit.ac.in/alumni_progression\n",
      "\t https://vit.ac.in/academics/transcripts\n",
      "\t https://vit.ac.in/instruction\n",
      "\t https://vit.ac.in/alumni-events\n",
      "\t https://vit.ac.in/detailview/alumni-photo-gallery\n",
      "\t https://vit.ac.in/alumni-office-contact\n",
      "\t https://www.youtube.com/c/VITUniversityVellore\n",
      "\t https://vit.ac.in/school-electronics-engineering-sense/3-days-online-workshop-thin-film-deposition-and-device\n",
      "\t https://vit.ac.in/general/online-workshop-analytical-instruments-hplc-and-uplc-0\n",
      "\t https://vit.ac.in/vit-school-agricultural-innovations-and-advanced-learning-vaial/national-farmers-day-2021\n",
      "\t https://vit.ac.in/vit-business-school-vit-bs/vit-business-school-management-fest-2022\n",
      "\t https://vit.ac.in/school-electronics-engineering-sense/second-international-conference-artificial-intelligence\n",
      "\t https://vit.ac.in/school-mechanical-engineeringsmec/27th-national-conference-internal-combustion-engines-and\n",
      "\t https://vit.ac.in/all-courses/pg/master-of-business-administration\n",
      "\t https://vit.ac.in/phd-vacancy-positions-list\n",
      "\t https://www.youtube.com/watch?v=JzDMjJIqM_s\n",
      "\t https://vit.ac.in/detailview/36th-convocation-photos\n",
      "\t https://vit.ac.in/vit-institution-eminence-ioe\n",
      "\t https://vit.ac.in/ariia-award\n",
      "\t https://vit.ac.in/qs-ranks-vit-one-among-top-12-institutions-india-engineering-and-technology\n",
      "\t https://vit.ac.in/vit-only-private-institution-india-shanghai-ranking-2021\n",
      "\t https://vit.ac.in/vit-university-sets-record-limca-book-records\n",
      "\t https://vit.ac.in/vit-student-won-gold-medal-archery-event-5th-pykka-national-games-held-jaipur\n",
      "\t https://vit.ac.in/36th-annual-convocation-0\n",
      "\t https://vit.ac.in/agrivaial-imparts-training-students-about-use-drones-organic-farming\n",
      "\t https://vit.ac.in/birth-anniversary-periyar-ev-ramasamy-0\n",
      "\t https://vit.ac.in/galleries\n",
      "\t https://vit.ac.in/video\n",
      "\t https://vit.ac.in/campus-hostel/hostels\n",
      "\t https://vit.ac.in/sitemap/\n",
      "\t https://vit.ac.in/academics/iqac\n",
      "\t http://www.mhrdnats.gov.in/\n",
      "\t https://vit.ac.in/contactus\n",
      "\t https://vit.ac.in/guesthouse/\n"
     ]
    }
   ],
   "source": [
    "print(\"The links in the root URL page which contains the word 'Programme' but not the word 'programming' are :\") \n",
    "for url in result : \n",
    "    print(\"\\t\", url) \n"
   ]
  },
  {
   "cell_type": "code",
   "execution_count": 28,
   "metadata": {},
   "outputs": [
    {
     "name": "stdout",
     "output_type": "stream",
     "text": [
      "The links that we failed to open are : \n",
      "\t http://intranet.vit.ac.in\n",
      "\t http://intranet.vit.ac.in/\n"
     ]
    }
   ],
   "source": [
    "print(\"The links that we failed to open are : \") \n",
    "for url in failed : \n",
    "    print(\"\\t\", url)\n"
   ]
  },
  {
   "cell_type": "markdown",
   "metadata": {},
   "source": [
    "# Question 4\n",
    "Write a web crawler program which takes as input a url(Educational Website), a search word and maximum number of pages(15-20 Pages) to be searched and returns as output all the web pages it searched till it found the search word on a web page or return failure."
   ]
  },
  {
   "cell_type": "code",
   "execution_count": 29,
   "metadata": {},
   "outputs": [],
   "source": [
    "import requests\n",
    "from bs4 import BeautifulSoup\n",
    "import re"
   ]
  },
  {
   "cell_type": "code",
   "execution_count": 30,
   "metadata": {},
   "outputs": [
    {
     "name": "stdout",
     "output_type": "stream",
     "text": [
      "Input URL:https://www.annauniv.edu\n",
      "Search Word: hostel\n",
      "Max Pages:16\n"
     ]
    }
   ],
   "source": [
    "root_URL = input(\"Input URL:\") \n",
    "search_word = input(\"Search Word: \") \n",
    "Max_pages = int(input(\"Max Pages:\")) "
   ]
  },
  {
   "cell_type": "code",
   "execution_count": 31,
   "metadata": {},
   "outputs": [
    {
     "name": "stdout",
     "output_type": "stream",
     "text": [
      "Status of the response :  200\n"
     ]
    }
   ],
   "source": [
    "response = requests.get(root_URL) \n",
    "print(\"Status of the response : \", response.status_code) "
   ]
  },
  {
   "cell_type": "code",
   "execution_count": 32,
   "metadata": {},
   "outputs": [],
   "source": [
    "root_page = BeautifulSoup(response.content, 'html.parser')"
   ]
  },
  {
   "cell_type": "code",
   "execution_count": 33,
   "metadata": {},
   "outputs": [],
   "source": [
    "anchor_tags = root_page.find_all('a')"
   ]
  },
  {
   "cell_type": "code",
   "execution_count": 34,
   "metadata": {},
   "outputs": [],
   "source": [
    "result = [] \n",
    "failed = []"
   ]
  },
  {
   "cell_type": "code",
   "execution_count": 35,
   "metadata": {},
   "outputs": [],
   "source": [
    "found=0\n",
    "for anchor_tag in anchor_tags: \n",
    "    link = anchor_tag['href']    \n",
    "    while(found==0 and Max_pages>0): \n",
    "        Max_pages=Max_pages-1 \n",
    "        result.append(link)\n",
    "        \n",
    "    if (re.search(search_word, page, re.IGNORECASE)): \n",
    "        result.append(link) \n",
    "        found=1\n",
    "        break \n",
    "    else: \n",
    "        continue\n",
    "    \n",
    "if(found==0): \n",
    "    result= [\"failure\"] \n",
    "\n"
   ]
  },
  {
   "cell_type": "code",
   "execution_count": 36,
   "metadata": {},
   "outputs": [
    {
     "name": "stdout",
     "output_type": "stream",
     "text": [
      "The links in the root URL are given below\n",
      "\t http://www.annauniv.edu/index.php\n",
      "\t http://www.annauniv.edu/index.php\n",
      "\t http://www.annauniv.edu/index.php\n",
      "\t http://www.annauniv.edu/index.php\n",
      "\t http://www.annauniv.edu/index.php\n",
      "\t http://www.annauniv.edu/index.php\n",
      "\t http://www.annauniv.edu/index.php\n",
      "\t http://www.annauniv.edu/index.php\n",
      "\t http://www.annauniv.edu/index.php\n",
      "\t http://www.annauniv.edu/index.php\n",
      "\t http://www.annauniv.edu/index.php\n",
      "\t http://www.annauniv.edu/index.php\n",
      "\t http://www.annauniv.edu/index.php\n",
      "\t http://www.annauniv.edu/index.php\n",
      "\t http://www.annauniv.edu/index.php\n",
      "\t http://www.annauniv.edu/index.php\n",
      "\t http://www.annauniv.edu/index.php\n"
     ]
    }
   ],
   "source": [
    "print(\"The links in the root URL are given below\") \n",
    "for url in result : \n",
    "    print(\"\\t\", url) "
   ]
  },
  {
   "cell_type": "code",
   "execution_count": 37,
   "metadata": {},
   "outputs": [
    {
     "name": "stdout",
     "output_type": "stream",
     "text": [
      "The links that we failed to open are : \n"
     ]
    }
   ],
   "source": [
    "\n",
    "print(\"The links that we failed to open are : \") \n",
    "for url in failed :\n",
    "    print(\"\\t\", url)"
   ]
  },
  {
   "cell_type": "code",
   "execution_count": null,
   "metadata": {},
   "outputs": [],
   "source": []
  }
 ],
 "metadata": {
  "kernelspec": {
   "display_name": "Python 3",
   "language": "python",
   "name": "python3"
  },
  "language_info": {
   "codemirror_mode": {
    "name": "ipython",
    "version": 3
   },
   "file_extension": ".py",
   "mimetype": "text/x-python",
   "name": "python",
   "nbconvert_exporter": "python",
   "pygments_lexer": "ipython3",
   "version": "3.8.8"
  }
 },
 "nbformat": 4,
 "nbformat_minor": 4
}
